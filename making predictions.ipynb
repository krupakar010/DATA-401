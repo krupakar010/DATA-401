{
 "cells": [
  {
   "cell_type": "code",
   "execution_count": 23,
   "id": "05f6245d-4ecb-4454-94da-54fdffb886e6",
   "metadata": {},
   "outputs": [],
   "source": [
    "import pandas as pd\n",
    "from sqlalchemy import create_engine\n",
    "import warnings\n",
    "\n",
    "postgres_user = 'dsbc_student'\n",
    "postgres_pw = ''\n",
    "postgres_host = ''\n",
    "postgres_port = '5432'\n",
    "postgres_db = 'weatherinszeged'"
   ]
  },
  {
   "cell_type": "markdown",
   "id": "97181e41-55a0-4a77-baf7-c711327d6e03",
   "metadata": {},
   "source": [
    "## House price model"
   ]
  },
  {
   "cell_type": "code",
   "execution_count": 24,
   "id": "59303405-0243-4a0d-bb4c-0215519e3c82",
   "metadata": {},
   "outputs": [],
   "source": [
    "postgres_db='houseprices'\n",
    "engine2 = create_engine('postgresql://{}:{}@{}:{}/{}'.format(\n",
    "    postgres_user, postgres_pw, postgres_host, postgres_port, postgres_db))\n",
    "\n",
    "houseprices_df = pd.read_sql_query('select * from houseprices',con=engine2)\n",
    "engine2.dispose()"
   ]
  },
  {
   "cell_type": "code",
   "execution_count": 25,
   "id": "69cfee73-3cd6-4ca6-8323-a323f3f34377",
   "metadata": {},
   "outputs": [],
   "source": [
    "# select features  year build, sqfeet , lot area , full bath ,halfbath, overallcond, live area\n",
    "fea_df = houseprices_df[['yearbuilt','lotarea','fullbath','halfbath','grlivarea','overallcond','saleprice']]"
   ]
  },
  {
   "cell_type": "code",
   "execution_count": 26,
   "id": "2f58517c-65b7-4eab-bbba-aa83bff94c88",
   "metadata": {},
   "outputs": [],
   "source": [
    "# bath and condition categorical\n",
    "bath_df = pd.get_dummies(fea_df['fullbath'],dtype=int).rename(columns=lambda x:'fb_' +str(x))\n",
    "new_df = fea_df.drop(['fullbath'], axis =1).merge(bath_df,left_index=True, right_index=True)"
   ]
  },
  {
   "cell_type": "code",
   "execution_count": 27,
   "id": "ecb7117f-34de-4f00-b05f-4f5b16c86cd3",
   "metadata": {},
   "outputs": [],
   "source": [
    "bath_df = pd.get_dummies(fea_df['halfbath'],dtype=int).rename(columns=lambda x:'hb_' +str(x))\n",
    "new2_df = new_df.drop(['halfbath'], axis =1).merge(bath_df,left_index=True, right_index=True)"
   ]
  },
  {
   "cell_type": "code",
   "execution_count": 28,
   "id": "bb5188f4-9851-4dcc-9404-e6b1f4bac804",
   "metadata": {},
   "outputs": [
    {
     "data": {
      "text/html": [
       "<div>\n",
       "<style scoped>\n",
       "    .dataframe tbody tr th:only-of-type {\n",
       "        vertical-align: middle;\n",
       "    }\n",
       "\n",
       "    .dataframe tbody tr th {\n",
       "        vertical-align: top;\n",
       "    }\n",
       "\n",
       "    .dataframe thead th {\n",
       "        text-align: right;\n",
       "    }\n",
       "</style>\n",
       "<table border=\"1\" class=\"dataframe\">\n",
       "  <thead>\n",
       "    <tr style=\"text-align: right;\">\n",
       "      <th></th>\n",
       "      <th>yearbuilt</th>\n",
       "      <th>lotarea</th>\n",
       "      <th>grlivarea</th>\n",
       "      <th>overallcond</th>\n",
       "      <th>saleprice</th>\n",
       "      <th>fb_0</th>\n",
       "      <th>fb_1</th>\n",
       "      <th>fb_2</th>\n",
       "      <th>fb_3</th>\n",
       "      <th>hb_0</th>\n",
       "      <th>hb_1</th>\n",
       "      <th>hb_2</th>\n",
       "    </tr>\n",
       "  </thead>\n",
       "  <tbody>\n",
       "    <tr>\n",
       "      <th>0</th>\n",
       "      <td>2003</td>\n",
       "      <td>8450</td>\n",
       "      <td>1710</td>\n",
       "      <td>5</td>\n",
       "      <td>208500</td>\n",
       "      <td>0</td>\n",
       "      <td>0</td>\n",
       "      <td>1</td>\n",
       "      <td>0</td>\n",
       "      <td>0</td>\n",
       "      <td>1</td>\n",
       "      <td>0</td>\n",
       "    </tr>\n",
       "    <tr>\n",
       "      <th>1</th>\n",
       "      <td>1976</td>\n",
       "      <td>9600</td>\n",
       "      <td>1262</td>\n",
       "      <td>8</td>\n",
       "      <td>181500</td>\n",
       "      <td>0</td>\n",
       "      <td>0</td>\n",
       "      <td>1</td>\n",
       "      <td>0</td>\n",
       "      <td>1</td>\n",
       "      <td>0</td>\n",
       "      <td>0</td>\n",
       "    </tr>\n",
       "    <tr>\n",
       "      <th>2</th>\n",
       "      <td>2001</td>\n",
       "      <td>11250</td>\n",
       "      <td>1786</td>\n",
       "      <td>5</td>\n",
       "      <td>223500</td>\n",
       "      <td>0</td>\n",
       "      <td>0</td>\n",
       "      <td>1</td>\n",
       "      <td>0</td>\n",
       "      <td>0</td>\n",
       "      <td>1</td>\n",
       "      <td>0</td>\n",
       "    </tr>\n",
       "    <tr>\n",
       "      <th>3</th>\n",
       "      <td>1915</td>\n",
       "      <td>9550</td>\n",
       "      <td>1717</td>\n",
       "      <td>5</td>\n",
       "      <td>140000</td>\n",
       "      <td>0</td>\n",
       "      <td>1</td>\n",
       "      <td>0</td>\n",
       "      <td>0</td>\n",
       "      <td>1</td>\n",
       "      <td>0</td>\n",
       "      <td>0</td>\n",
       "    </tr>\n",
       "    <tr>\n",
       "      <th>4</th>\n",
       "      <td>2000</td>\n",
       "      <td>14260</td>\n",
       "      <td>2198</td>\n",
       "      <td>5</td>\n",
       "      <td>250000</td>\n",
       "      <td>0</td>\n",
       "      <td>0</td>\n",
       "      <td>1</td>\n",
       "      <td>0</td>\n",
       "      <td>0</td>\n",
       "      <td>1</td>\n",
       "      <td>0</td>\n",
       "    </tr>\n",
       "  </tbody>\n",
       "</table>\n",
       "</div>"
      ],
      "text/plain": [
       "   yearbuilt  lotarea  grlivarea  overallcond  saleprice  fb_0  fb_1  fb_2  \\\n",
       "0       2003     8450       1710            5     208500     0     0     1   \n",
       "1       1976     9600       1262            8     181500     0     0     1   \n",
       "2       2001    11250       1786            5     223500     0     0     1   \n",
       "3       1915     9550       1717            5     140000     0     1     0   \n",
       "4       2000    14260       2198            5     250000     0     0     1   \n",
       "\n",
       "   fb_3  hb_0  hb_1  hb_2  \n",
       "0     0     0     1     0  \n",
       "1     0     1     0     0  \n",
       "2     0     0     1     0  \n",
       "3     0     1     0     0  \n",
       "4     0     0     1     0  "
      ]
     },
     "execution_count": 28,
     "metadata": {},
     "output_type": "execute_result"
    }
   ],
   "source": [
    "new2_df.head()"
   ]
  },
  {
   "cell_type": "code",
   "execution_count": 31,
   "id": "a4162e83-9aab-4adc-b845-55b85b09b008",
   "metadata": {},
   "outputs": [],
   "source": [
    "\n",
    "# `Y` is the target variable\n",
    "Y = new2_df['saleprice']\n",
    "# `X` is the feature set which includes the\n",
    "# `is_male` and `is_smoker` variables\n",
    "X = new2_df.drop(['saleprice'], axis =1)"
   ]
  },
  {
   "cell_type": "code",
   "execution_count": 33,
   "id": "97f28290-36a3-4c8c-8c10-68208aed9f45",
   "metadata": {},
   "outputs": [],
   "source": [
    "\n",
    "from sklearn.model_selection import train_test_split\n",
    "X_train, X_test, y_train, y_test = train_test_split(X, Y, test_size = 0.2, random_state = 465)"
   ]
  },
  {
   "cell_type": "code",
   "execution_count": 34,
   "id": "12d20f31-b691-4781-b9d4-3caf9aa3eccb",
   "metadata": {},
   "outputs": [
    {
     "name": "stdout",
     "output_type": "stream",
     "text": [
      "                            OLS Regression Results                            \n",
      "==============================================================================\n",
      "Dep. Variable:              saleprice   R-squared:                       0.693\n",
      "Model:                            OLS   Adj. R-squared:                  0.690\n",
      "Method:                 Least Squares   F-statistic:                     289.8\n",
      "Date:                Wed, 18 Sep 2024   Prob (F-statistic):          3.08e-289\n",
      "Time:                        16:12:48   Log-Likelihood:                -14137.\n",
      "No. Observations:                1168   AIC:                         2.829e+04\n",
      "Df Residuals:                    1158   BIC:                         2.834e+04\n",
      "Df Model:                           9                                         \n",
      "Covariance Type:            nonrobust                                         \n",
      "===============================================================================\n",
      "                  coef    std err          t      P>|t|      [0.025      0.975]\n",
      "-------------------------------------------------------------------------------\n",
      "const       -1.689e+06   7.03e+04    -24.041      0.000   -1.83e+06   -1.55e+06\n",
      "yearbuilt    1336.9530     54.304     24.620      0.000    1230.407    1443.499\n",
      "lotarea         0.6042      0.125      4.827      0.000       0.359       0.850\n",
      "grlivarea      99.4981      3.726     26.703      0.000      92.188     106.809\n",
      "overallcond  1.021e+04   1251.584      8.157      0.000    7753.508    1.27e+04\n",
      "fb_0        -4.032e+05   2.27e+04    -17.728      0.000   -4.48e+05   -3.59e+05\n",
      "fb_1        -4.301e+05   1.71e+04    -25.204      0.000   -4.64e+05   -3.97e+05\n",
      "fb_2        -4.435e+05   1.88e+04    -23.586      0.000    -4.8e+05   -4.07e+05\n",
      "fb_3        -4.123e+05    2.1e+04    -19.656      0.000   -4.53e+05   -3.71e+05\n",
      "hb_0        -5.378e+05   2.34e+04    -22.998      0.000   -5.84e+05   -4.92e+05\n",
      "hb_1        -5.524e+05   2.43e+04    -22.699      0.000      -6e+05   -5.05e+05\n",
      "hb_2        -5.989e+05   2.58e+04    -23.233      0.000   -6.49e+05   -5.48e+05\n",
      "==============================================================================\n",
      "Omnibus:                      384.215   Durbin-Watson:                   2.001\n",
      "Prob(Omnibus):                  0.000   Jarque-Bera (JB):            23683.344\n",
      "Skew:                          -0.653   Prob(JB):                         0.00\n",
      "Kurtosis:                      25.021   Cond. No.                     1.01e+20\n",
      "==============================================================================\n",
      "\n",
      "Notes:\n",
      "[1] Standard Errors assume that the covariance matrix of the errors is correctly specified.\n",
      "[2] The smallest eigenvalue is 2.66e-29. This might indicate that there are\n",
      "strong multicollinearity problems or that the design matrix is singular.\n"
     ]
    }
   ],
   "source": [
    "import statsmodels.api as sm\n",
    "\n",
    "# You need to manually add a constant\n",
    "X_train = sm.add_constant(X_train)\n",
    "# Fit an OLS model using statsmodels\n",
    "results = sm.OLS(y_train, X_train).fit()\n",
    "\n",
    "# Print the summary results\n",
    "print(results.summary())"
   ]
  },
  {
   "cell_type": "markdown",
   "id": "2f4f13c7-39cb-434b-a2ab-c7a76bb70cc5",
   "metadata": {},
   "source": [
    "This model's F-statistic is 369.4, and the associated p-value is very close to zero. This means that your features add some information to the reduced model, and your model is useful in explaining house prices.\n",
    "AIC/BIC IS QUITE BIG , WE MAY NEED TO SELECT MORE FEATURES TO GET BETTER MODEL \n",
    "R SQARE IS .696 , MODEL IS SOME WHAT EXPLAINING THE HOUSE PRICE , ADDING OTHER VARIABLES MIGHT IMPROVE PERFORMANCE"
   ]
  },
  {
   "cell_type": "code",
   "execution_count": 36,
   "id": "423456e6-8195-40d7-8184-150a7b31efac",
   "metadata": {},
   "outputs": [
    {
     "data": {
      "image/png": "[encoded data removed]",
      "text/plain": [
       "<Figure size 640x480 with 1 Axes>"
      ]
     },
     "metadata": {},
     "output_type": "display_data"
    },
    {
     "name": "stdout",
     "output_type": "stream",
     "text": [
      "Mean absolute error of the prediction is: 28069.088761753832\n",
      "Mean squared error of the prediction is: 1961176608.560887\n",
      "Root mean squared error of the prediction is: 44285.17368782567\n",
      "Mean absolute percentage error of the prediction is: 15.73929590479092\n"
     ]
    }
   ],
   "source": [
    "from sklearn.metrics import mean_absolute_error\n",
    "import statsmodels.api as sm\n",
    "from statsmodels.tools.eval_measures import mse, rmse\n",
    "from sqlalchemy import create_engine, text\n",
    "# Add a constant to the model because it's best practice\n",
    "# to do so every time!\n",
    "X_test = sm.add_constant(X_test)\n",
    "\n",
    "# You are making predictions here\n",
    "y_preds = results.predict(X_test)\n",
    "\n",
    "plt.scatter(y_test, y_preds)\n",
    "plt.plot(y_test, y_test, color=\"red\")\n",
    "plt.xlabel(\"true values\")\n",
    "plt.ylabel(\"predicted values\")\n",
    "plt.title(\"Charges: true and predicted values\")\n",
    "plt.show()\n",
    "\n",
    "print(\"Mean absolute error of the prediction is: {}\".format(mean_absolute_error(y_test, y_preds)))\n",
    "print(\"Mean squared error of the prediction is: {}\".format(mse(y_test, y_preds)))\n",
    "print(\"Root mean squared error of the prediction is: {}\".format(rmse(y_test, y_preds)))\n",
    "print(\"Mean absolute percentage error of the prediction is: {}\".format(np.mean(np.abs((y_test - y_preds) / y_test)) * 100))\n",
    "\n"
   ]
  },
  {
   "cell_type": "code",
   "execution_count": null,
   "id": "98858de6-fc98-4a7a-babe-9e43da95149b",
   "metadata": {},
   "outputs": [],
   "source": []
  }
 ],
 "metadata": {
  "kernelspec": {
   "display_name": "Python 3 (ipykernel)",
   "language": "python",
   "name": "python3"
  },
  "language_info": {
   "codemirror_mode": {
    "name": "ipython",
    "version": 3
   },
   "file_extension": ".py",
   "mimetype": "text/x-python",
   "name": "python",
   "nbconvert_exporter": "python",
   "pygments_lexer": "ipython3",
   "version": "3.11.7"
  }
 },
 "nbformat": 4,
 "nbformat_minor": 5
}
