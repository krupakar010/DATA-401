{
 "cells": [
  {
   "cell_type": "markdown",
   "id": "1cbe5e70-a05e-4291-97ea-1f79160d4730",
   "metadata": {},
   "source": [
    "# cleared all outputs from cells, as it is 100+ mb with output images and cluster visualizations"
   ]
  },
  {
   "cell_type": "code",
   "execution_count": null,
   "id": "006142e0-9d85-4243-9a7e-de6024a1bb0d",
   "metadata": {},
   "outputs": [],
   "source": [
    "import numpy as np\n",
    "import matplotlib.pyplot as plt\n",
    "from sklearn.datasets import fetch_openml\n",
    "from sklearn.manifold import TSNE"
   ]
  },
  {
   "cell_type": "code",
   "execution_count": null,
   "id": "4587db59-7c2b-4ce8-acf0-7b2cfe8b2326",
   "metadata": {},
   "outputs": [],
   "source": [
    "mnist = fetch_openml('Fashion-MNIST', version=1, cache=True)"
   ]
  },
  {
   "cell_type": "code",
   "execution_count": null,
   "id": "f9a68aae-eeaa-42b1-834d-2422e4c031eb",
   "metadata": {},
   "outputs": [],
   "source": [
    "np.random.seed(123)\n",
    "\n",
    "indices = np.random.choice(len(mnist.data), 10000)\n",
    "X = mnist.data.loc[indices] / 255.0 # Divide by 255 to normalize for RGB (red, green, blue) in image data\n",
    "y = mnist.target.loc[indices]\n",
    "\n",
    "print(X.shape, y.shape)"
   ]
  },
  {
   "cell_type": "code",
   "execution_count": null,
   "id": "f3719916-664a-42cc-a4aa-8fa0bfeae13b",
   "metadata": {},
   "outputs": [],
   "source": [
    "plt.figure(figsize=(20,5))\n",
    "\n",
    "plt.subplot(141)\n",
    "plt.imshow(X.iloc[123].values.reshape(28,28), cmap=\"gray\")\n",
    "plt.title(\"Label of the image: {}\".format(y.iloc[123]))\n",
    "\n",
    "plt.subplot(142)\n",
    "plt.imshow(X.iloc[124].values.reshape(28,28), cmap=\"gray\")\n",
    "plt.title(\"Label of the image: {}\".format(y.iloc[124]))\n",
    "\n",
    "plt.subplot(143)\n",
    "plt.imshow(X.iloc[125].values.reshape(28,28), cmap=\"gray\")\n",
    "plt.title(\"Label of the image: {}\".format(y.iloc[125]))\n",
    "\n",
    "plt.subplot(144)\n",
    "plt.imshow(X.iloc[126].values.reshape(28,28), cmap=\"gray\")\n",
    "plt.title(\"Label of the image: {}\".format(y.iloc[126]))\n",
    "\n",
    "plt.show()"
   ]
  },
  {
   "cell_type": "code",
   "execution_count": null,
   "id": "98d3dbec-8b68-4d8a-a883-8036ef812dae",
   "metadata": {},
   "outputs": [],
   "source": [
    "import time\n",
    "time_start = time.time()\n",
    "tsne = TSNE(n_components=2, verbose=1, perplexity=40, n_iter=300)\n",
    "tsne_results = tsne.fit_transform(X)\n",
    "\n",
    "print('t-SNE done! Time elapsed: {} seconds'.format(time.time()-time_start))"
   ]
  },
  {
   "cell_type": "code",
   "execution_count": null,
   "id": "526eecd0-982a-4ff8-b26a-c299c7519d51",
   "metadata": {},
   "outputs": [],
   "source": [
    "def plot(tsne_results):\n",
    " plt.figure(figsize=(10,5))\n",
    " colours = [\"r\",\"b\",\"g\",\"c\",\"m\",\"y\",\"k\",\"r\",\"burlywood\",\"chartreuse\"]\n",
    " for i in range(tsne_results.shape[0]):\n",
    "    plt.text(tsne_results[i, 0], tsne_results[i, 1], str(y.iloc[i]),\n",
    "             color=colours[int(y.iloc[i])],\n",
    "             fontdict={'weight': 'bold', 'size': 50}\n",
    "        )\n",
    "\n",
    " plt.xticks([])\n",
    " plt.yticks([])\n",
    " plt.axis('off')\n",
    " plt.show()\n",
    "plot(tsne_results)"
   ]
  },
  {
   "cell_type": "code",
   "execution_count": null,
   "id": "673cd4fc-c3d0-4427-ab89-f4fc185f7294",
   "metadata": {},
   "outputs": [],
   "source": [
    "plt.figure(figsize=(10,5))\n",
    "plt.scatter(tsne_results[:, 0], tsne_results[:, 1])\n",
    "plt.xticks([])\n",
    "plt.yticks([])\n",
    "plt.axis('off')\n",
    "plt.show()"
   ]
  },
  {
   "cell_type": "code",
   "execution_count": null,
   "id": "1f543800-70b9-48fe-891a-716dc5f8b498",
   "metadata": {},
   "outputs": [],
   "source": [
    "for perplexity in range(5,50,5):\n",
    " print('running with perplexity', perplexity)\n",
    " tsne = TSNE(n_components=2, verbose=1, perplexity=40, n_iter=300)\n",
    " tsne_results = tsne.fit_transform(X)\n",
    " plot(tsne_results)\n"
   ]
  },
  {
   "cell_type": "code",
   "execution_count": null,
   "id": "4f2fff79-26a9-469d-8ea3-6cf6e371ef4d",
   "metadata": {},
   "outputs": [],
   "source": []
  }
 ],
 "metadata": {
  "kernelspec": {
   "display_name": "Python 3 (ipykernel)",
   "language": "python",
   "name": "python3"
  },
  "language_info": {
   "codemirror_mode": {
    "name": "ipython",
    "version": 3
   },
   "file_extension": ".py",
   "mimetype": "text/x-python",
   "name": "python",
   "nbconvert_exporter": "python",
   "pygments_lexer": "ipython3",
   "version": "3.11.7"
  }
 },
 "nbformat": 4,
 "nbformat_minor": 5
}
