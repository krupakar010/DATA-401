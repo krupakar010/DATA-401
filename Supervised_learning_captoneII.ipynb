{
 "cells": [
  {
   "cell_type": "markdown",
   "id": "666a1353-0ef0-40d8-87f3-19bf54fccb9b",
   "metadata": {},
   "source": [
    "## 1. Introduction\n",
    "    Predicting house prices is a rapidly evolving and challenging task due to various market dynamics. Houston is currently a hot housing market, making it particularly interesting to analyze and predict home prices. I am planning to develop a model that exclusively employs supervised learning techniques to learn from historical data and accurately forecast home prices. This model will leverage insights from past transactions and relevant features to provide reliable predictions for prospective buyers and sellers."
   ]
  },
  {
   "cell_type": "markdown",
   "id": "8bd46dc4-325d-4c32-973e-5606d5479fac",
   "metadata": {},
   "source": [
    "## 2.data selection\n",
    "  Kaggle is an open-source community that hosts a comprehensive archive of housing prices data. It provides valuable datasets for practitioners and researchers to explore, analyze, and develop predictive models in the field of real estate. I am sourcing my dataset from Kaggle location https://www.kaggle.com/datasets/opashroanld/housing-houston-and-miami "
   ]
  },
  {
   "cell_type": "markdown",
   "id": "ea63f519-70ae-41f0-8bf1-e46da065d584",
   "metadata": {},
   "source": [
    "  *   #### Download data and load it to dataframe"
   ]
  },
  {
   "cell_type": "code",
   "execution_count": 39,
   "id": "b734c7f9-d40e-4038-a8b1-34a0b9ad6fc0",
   "metadata": {},
   "outputs": [
    {
     "name": "stdout",
     "output_type": "stream",
     "text": [
      "  % Total    % Received % Xferd  Average Speed   Time    Time     Time  Current\n",
      "                                 Dload  Upload   Total   Spent    Left  Speed\n",
      "  0     0    0     0    0     0      0      0 --:--:-- --:--:-- --:--:--     0\n",
      "100 1003k  100 1003k    0     0  1382k      0 --:--:-- --:--:-- --:--:-- 3087k\n",
      "Archive:  housing-prices-dataset.zip\n",
      "  inflating: Houston.csv             \n",
      "  inflating: Miami.csv               \n"
     ]
    }
   ],
   "source": [
    "# download the dataset from kaggle\n",
    "!export KAGGLE_USERNAME='' # add kaggle username\n",
    "!export KAGGLE_KEY='' # add kaggle key for the user\n",
    "!curl -L -o housing-prices-dataset.zip\\\n",
    "https://www.kaggle.com/api/v1/datasets/download/opashroanld/housing-houston-and-miami\n",
    "!unzip housing-prices-dataset.zip"
   ]
  },
  {
   "cell_type": "code",
   "execution_count": 42,
   "id": "12a6a9b2-0c53-46c4-82a9-8bc820810b67",
   "metadata": {},
   "outputs": [],
   "source": [
    "import pandas as pd\n",
    "houston_home_prices_df=pd.read_csv('Houston.csv')"
   ]
  },
  {
   "cell_type": "markdown",
   "id": "af981ddc-3ea8-496f-9777-8fb82397c6cf",
   "metadata": {},
   "source": [
    "* ####  Perform EDA on the houston housing price data\n",
    "  * check for any nuls missing values\n",
    "  * Clean the data "
   ]
  },
  {
   "cell_type": "code",
   "execution_count": 58,
   "id": "821b3a8a-e6f7-429c-9ba1-ab1c804d2663",
   "metadata": {},
   "outputs": [
    {
     "name": "stdout",
     "output_type": "stream",
     "text": [
      "<class 'pandas.core.frame.DataFrame'>\n",
      "RangeIndex: 13546 entries, 0 to 13545\n",
      "Data columns (total 11 columns):\n",
      " #   Column      Non-Null Count  Dtype  \n",
      "---  ------      --------------  -----  \n",
      " 0   Price       13192 non-null  float64\n",
      " 1   Bedrooms    13192 non-null  float64\n",
      " 2   Bathrooms   13192 non-null  float64\n",
      " 3   Car         13192 non-null  float64\n",
      " 4   sqm_house   13192 non-null  float64\n",
      " 5   Balcony     13192 non-null  float64\n",
      " 6   Year_built  13546 non-null  int64  \n",
      " 7   Address     13546 non-null  object \n",
      " 8   Latitude    13546 non-null  float64\n",
      " 9   Longitude   13546 non-null  float64\n",
      " 10  Zipcode     13546 non-null  int64  \n",
      "dtypes: float64(8), int64(2), object(1)\n",
      "memory usage: 1.1+ MB\n",
      "       Price  Bedrooms  Bathrooms  Car  sqm_house  Balcony  Year_built  \\\n",
      "0  1328655.0       9.0        4.0  6.0      470.0      3.0        1977   \n",
      "1   826553.0       8.0        5.0  5.0      208.0      3.0        2002   \n",
      "2  1133566.0       2.0        1.0  2.0      564.0      2.0        1982   \n",
      "3   814179.0       8.0        5.0  4.0      216.0      3.0        1986   \n",
      "4  1020010.0       7.0        4.0  4.0      347.0      3.0        2003   \n",
      "\n",
      "      Address   Latitude  Longitude  Zipcode  \n",
      "0  100 Elm St  29.799693 -95.396527    77001  \n",
      "1  101 Elm St  29.735212 -95.435717    77001  \n",
      "2  102 Elm St  29.751218 -95.369976    77001  \n",
      "3  103 Elm St  29.721105 -95.356369    77002  \n",
      "4  104 Elm St  29.783241 -95.362663    77005  \n",
      "            Price  Bedrooms  Bathrooms   Car  sqm_house  Balcony  Year_built  \\\n",
      "13541    238490.0       9.0        1.0   0.0      155.0      0.0        2007   \n",
      "13542    457688.0       8.0        2.0   2.0      178.0      3.0        1984   \n",
      "13543         NaN       NaN        NaN   3.0      311.0      0.0        1962   \n",
      "13544  10000000.0      20.0       10.0  10.0    10000.0     10.0        1982   \n",
      "13545         NaN      -3.0       -2.0  -2.0     -500.0     -2.0        1984   \n",
      "\n",
      "            Address   Latitude  Longitude  Zipcode  \n",
      "13541  13641 Elm St  29.723773 -95.449440    77004  \n",
      "13542  13642 Elm St  29.716304 -95.432801    77001  \n",
      "13543  13643 Elm St  29.740943 -95.442126    77002  \n",
      "13544  13644 Elm St  29.776389 -95.361669    77005  \n",
      "13545  13645 Elm St  29.778087 -95.409774    77004  \n"
     ]
    }
   ],
   "source": [
    "# print the information and head to see the data and types\n",
    "houston_home_prices_df.info()\n",
    "print(houston_home_prices_df.head())\n",
    "print(houston_home_prices_df.tail())"
   ]
  },
  {
   "cell_type": "code",
   "execution_count": 59,
   "id": "a3585df8-5959-42fb-bc28-5091edf91f91",
   "metadata": {},
   "outputs": [
    {
     "data": {
      "text/plain": [
       "Price         354\n",
       "Bedrooms      354\n",
       "Bathrooms     354\n",
       "Car           354\n",
       "sqm_house     354\n",
       "Balcony       354\n",
       "Year_built      0\n",
       "Address         0\n",
       "Latitude        0\n",
       "Longitude       0\n",
       "Zipcode         0\n",
       "dtype: int64"
      ]
     },
     "execution_count": 59,
     "metadata": {},
     "output_type": "execute_result"
    }
   ],
   "source": [
    "# check for nulls and any missing values \n",
    "houston_home_prices_df.isnull().sum()"
   ]
  },
  {
   "cell_type": "code",
   "execution_count": 71,
   "id": "235be19a-5dd2-4bf8-a524-6faf1a0e46d5",
   "metadata": {},
   "outputs": [],
   "source": [
    "# I want to drop the records for which the home price is null\n",
    "cleaned_home_prices_df = houston_home_prices_df.dropna(subset=['Price'])\n"
   ]
  },
  {
   "cell_type": "code",
   "execution_count": 72,
   "id": "6f0b56ac-b07b-46dc-8572-a5caf0b3234b",
   "metadata": {},
   "outputs": [
    {
     "data": {
      "text/plain": [
       "Price           0\n",
       "Bedrooms      325\n",
       "Bathrooms     319\n",
       "Car           314\n",
       "sqm_house     333\n",
       "Balcony       314\n",
       "Year_built      0\n",
       "Address         0\n",
       "Latitude        0\n",
       "Longitude       0\n",
       "Zipcode         0\n",
       "dtype: int64"
      ]
     },
     "execution_count": 72,
     "metadata": {},
     "output_type": "execute_result"
    }
   ],
   "source": [
    "# check for nulls and any missing values \n",
    "cleaned_home_prices_df.isnull().sum()"
   ]
  },
  {
   "cell_type": "code",
   "execution_count": 83,
   "id": "742c2ccf-ec42-4387-ad59-29ad6be41d3f",
   "metadata": {},
   "outputs": [
    {
     "name": "stdout",
     "output_type": "stream",
     "text": [
      "<class 'pandas.core.frame.DataFrame'>\n",
      "Index: 13192 entries, 0 to 13544\n",
      "Data columns (total 11 columns):\n",
      " #   Column      Non-Null Count  Dtype  \n",
      "---  ------      --------------  -----  \n",
      " 0   Price       13192 non-null  float64\n",
      " 1   Bedrooms    13192 non-null  float64\n",
      " 2   Bathrooms   13192 non-null  float64\n",
      " 3   Car         13192 non-null  float64\n",
      " 4   sqm_house   13192 non-null  float64\n",
      " 5   Balcony     13192 non-null  float64\n",
      " 6   Year_built  13192 non-null  int64  \n",
      " 7   Address     13192 non-null  object \n",
      " 8   Latitude    13192 non-null  float64\n",
      " 9   Longitude   13192 non-null  float64\n",
      " 10  Zipcode     13192 non-null  int64  \n",
      "dtypes: float64(8), int64(2), object(1)\n",
      "memory usage: 1.2+ MB\n"
     ]
    }
   ],
   "source": [
    "# replace the missing values with a mean for Bedrooms,Bathrooms,Car,sqm_house,Balcony\n",
    "# fill all floats with mean of total dataset\n",
    "for column_name in ('Bedrooms','Bathrooms','Car','sqm_house','Balcony'):\n",
    "    cleaned_home_prices_df[column_name].fillna(cleaned_home_prices_df[column_name].mean(), inplace=True)\n",
    "cleaned_home_prices_df.info()"
   ]
  },
  {
   "cell_type": "code",
   "execution_count": 84,
   "id": "c8da2bcf-2b52-4411-b2c7-90f31a5929a3",
   "metadata": {},
   "outputs": [
    {
     "data": {
      "text/plain": [
       "13192"
      ]
     },
     "execution_count": 84,
     "metadata": {},
     "output_type": "execute_result"
    }
   ],
   "source": [
    "# Now it is time to look at the categorical variable \n",
    "cleaned_home_prices_df['Address'].nunique()\n"
   ]
  },
  {
   "cell_type": "code",
   "execution_count": 85,
   "id": "96bbf8bf-feba-4851-9cc1-8a19c5155b75",
   "metadata": {},
   "outputs": [],
   "source": [
    "# address is unique for each record , so we drop that column\n",
    "cleaned_home_prices_df.drop('Address', axis=1, inplace=True)"
   ]
  },
  {
   "cell_type": "code",
   "execution_count": 86,
   "id": "9c3690dd-6902-491c-8c27-0270933b6bb2",
   "metadata": {},
   "outputs": [
    {
     "data": {
      "text/html": [
       "<div>\n",
       "<style scoped>\n",
       "    .dataframe tbody tr th:only-of-type {\n",
       "        vertical-align: middle;\n",
       "    }\n",
       "\n",
       "    .dataframe tbody tr th {\n",
       "        vertical-align: top;\n",
       "    }\n",
       "\n",
       "    .dataframe thead th {\n",
       "        text-align: right;\n",
       "    }\n",
       "</style>\n",
       "<table border=\"1\" class=\"dataframe\">\n",
       "  <thead>\n",
       "    <tr style=\"text-align: right;\">\n",
       "      <th></th>\n",
       "      <th>Price</th>\n",
       "      <th>Bedrooms</th>\n",
       "      <th>Bathrooms</th>\n",
       "      <th>Car</th>\n",
       "      <th>sqm_house</th>\n",
       "      <th>Balcony</th>\n",
       "      <th>Year_built</th>\n",
       "      <th>Latitude</th>\n",
       "      <th>Longitude</th>\n",
       "      <th>Zipcode</th>\n",
       "    </tr>\n",
       "  </thead>\n",
       "  <tbody>\n",
       "    <tr>\n",
       "      <th>0</th>\n",
       "      <td>1328655.0</td>\n",
       "      <td>9.0</td>\n",
       "      <td>4.0</td>\n",
       "      <td>6.0</td>\n",
       "      <td>470.0</td>\n",
       "      <td>3.0</td>\n",
       "      <td>1977</td>\n",
       "      <td>29.799693</td>\n",
       "      <td>-95.396527</td>\n",
       "      <td>77001</td>\n",
       "    </tr>\n",
       "    <tr>\n",
       "      <th>1</th>\n",
       "      <td>826553.0</td>\n",
       "      <td>8.0</td>\n",
       "      <td>5.0</td>\n",
       "      <td>5.0</td>\n",
       "      <td>208.0</td>\n",
       "      <td>3.0</td>\n",
       "      <td>2002</td>\n",
       "      <td>29.735212</td>\n",
       "      <td>-95.435717</td>\n",
       "      <td>77001</td>\n",
       "    </tr>\n",
       "    <tr>\n",
       "      <th>2</th>\n",
       "      <td>1133566.0</td>\n",
       "      <td>2.0</td>\n",
       "      <td>1.0</td>\n",
       "      <td>2.0</td>\n",
       "      <td>564.0</td>\n",
       "      <td>2.0</td>\n",
       "      <td>1982</td>\n",
       "      <td>29.751218</td>\n",
       "      <td>-95.369976</td>\n",
       "      <td>77001</td>\n",
       "    </tr>\n",
       "    <tr>\n",
       "      <th>3</th>\n",
       "      <td>814179.0</td>\n",
       "      <td>8.0</td>\n",
       "      <td>5.0</td>\n",
       "      <td>4.0</td>\n",
       "      <td>216.0</td>\n",
       "      <td>3.0</td>\n",
       "      <td>1986</td>\n",
       "      <td>29.721105</td>\n",
       "      <td>-95.356369</td>\n",
       "      <td>77002</td>\n",
       "    </tr>\n",
       "    <tr>\n",
       "      <th>4</th>\n",
       "      <td>1020010.0</td>\n",
       "      <td>7.0</td>\n",
       "      <td>4.0</td>\n",
       "      <td>4.0</td>\n",
       "      <td>347.0</td>\n",
       "      <td>3.0</td>\n",
       "      <td>2003</td>\n",
       "      <td>29.783241</td>\n",
       "      <td>-95.362663</td>\n",
       "      <td>77005</td>\n",
       "    </tr>\n",
       "  </tbody>\n",
       "</table>\n",
       "</div>"
      ],
      "text/plain": [
       "       Price  Bedrooms  Bathrooms  Car  sqm_house  Balcony  Year_built  \\\n",
       "0  1328655.0       9.0        4.0  6.0      470.0      3.0        1977   \n",
       "1   826553.0       8.0        5.0  5.0      208.0      3.0        2002   \n",
       "2  1133566.0       2.0        1.0  2.0      564.0      2.0        1982   \n",
       "3   814179.0       8.0        5.0  4.0      216.0      3.0        1986   \n",
       "4  1020010.0       7.0        4.0  4.0      347.0      3.0        2003   \n",
       "\n",
       "    Latitude  Longitude  Zipcode  \n",
       "0  29.799693 -95.396527    77001  \n",
       "1  29.735212 -95.435717    77001  \n",
       "2  29.751218 -95.369976    77001  \n",
       "3  29.721105 -95.356369    77002  \n",
       "4  29.783241 -95.362663    77005  "
      ]
     },
     "execution_count": 86,
     "metadata": {},
     "output_type": "execute_result"
    }
   ],
   "source": [
    "cleaned_home_prices_df.head()"
   ]
  },
  {
   "cell_type": "code",
   "execution_count": 89,
   "id": "e8f28a0c-ed02-4614-9db9-bbae821263cb",
   "metadata": {},
   "outputs": [
    {
     "data": {
      "text/html": [
       "<div>\n",
       "<style scoped>\n",
       "    .dataframe tbody tr th:only-of-type {\n",
       "        vertical-align: middle;\n",
       "    }\n",
       "\n",
       "    .dataframe tbody tr th {\n",
       "        vertical-align: top;\n",
       "    }\n",
       "\n",
       "    .dataframe thead th {\n",
       "        text-align: right;\n",
       "    }\n",
       "</style>\n",
       "<table border=\"1\" class=\"dataframe\">\n",
       "  <thead>\n",
       "    <tr style=\"text-align: right;\">\n",
       "      <th></th>\n",
       "      <th>Price</th>\n",
       "      <th>Bedrooms</th>\n",
       "      <th>Bathrooms</th>\n",
       "      <th>Car</th>\n",
       "      <th>sqm_house</th>\n",
       "      <th>Balcony</th>\n",
       "      <th>Year_built</th>\n",
       "      <th>Latitude</th>\n",
       "      <th>Longitude</th>\n",
       "      <th>Zipcode</th>\n",
       "    </tr>\n",
       "  </thead>\n",
       "  <tbody>\n",
       "    <tr>\n",
       "      <th>count</th>\n",
       "      <td>1.319200e+04</td>\n",
       "      <td>13192.000000</td>\n",
       "      <td>13192.000000</td>\n",
       "      <td>13192.000000</td>\n",
       "      <td>13192.000000</td>\n",
       "      <td>13192.000000</td>\n",
       "      <td>13192.000000</td>\n",
       "      <td>13192.000000</td>\n",
       "      <td>13192.000000</td>\n",
       "      <td>13192.000000</td>\n",
       "    </tr>\n",
       "    <tr>\n",
       "      <th>mean</th>\n",
       "      <td>8.456761e+05</td>\n",
       "      <td>6.141525</td>\n",
       "      <td>3.441467</td>\n",
       "      <td>3.351685</td>\n",
       "      <td>317.523291</td>\n",
       "      <td>2.338096</td>\n",
       "      <td>1984.921847</td>\n",
       "      <td>29.749687</td>\n",
       "      <td>-95.399910</td>\n",
       "      <td>77002.980898</td>\n",
       "    </tr>\n",
       "    <tr>\n",
       "      <th>std</th>\n",
       "      <td>3.681237e+05</td>\n",
       "      <td>2.843307</td>\n",
       "      <td>1.540304</td>\n",
       "      <td>1.660847</td>\n",
       "      <td>171.829185</td>\n",
       "      <td>1.058444</td>\n",
       "      <td>20.447778</td>\n",
       "      <td>0.029004</td>\n",
       "      <td>0.028860</td>\n",
       "      <td>1.408229</td>\n",
       "    </tr>\n",
       "    <tr>\n",
       "      <th>min</th>\n",
       "      <td>5.040400e+04</td>\n",
       "      <td>1.000000</td>\n",
       "      <td>1.000000</td>\n",
       "      <td>0.000000</td>\n",
       "      <td>50.000000</td>\n",
       "      <td>0.000000</td>\n",
       "      <td>1950.000000</td>\n",
       "      <td>29.700002</td>\n",
       "      <td>-95.449994</td>\n",
       "      <td>77001.000000</td>\n",
       "    </tr>\n",
       "    <tr>\n",
       "      <th>25%</th>\n",
       "      <td>5.924685e+05</td>\n",
       "      <td>4.000000</td>\n",
       "      <td>2.000000</td>\n",
       "      <td>2.000000</td>\n",
       "      <td>191.000000</td>\n",
       "      <td>2.000000</td>\n",
       "      <td>1967.000000</td>\n",
       "      <td>29.724363</td>\n",
       "      <td>-95.425224</td>\n",
       "      <td>77002.000000</td>\n",
       "    </tr>\n",
       "    <tr>\n",
       "      <th>50%</th>\n",
       "      <td>8.411120e+05</td>\n",
       "      <td>6.000000</td>\n",
       "      <td>4.000000</td>\n",
       "      <td>3.351685</td>\n",
       "      <td>317.523291</td>\n",
       "      <td>2.000000</td>\n",
       "      <td>1985.000000</td>\n",
       "      <td>29.749352</td>\n",
       "      <td>-95.399677</td>\n",
       "      <td>77003.000000</td>\n",
       "    </tr>\n",
       "    <tr>\n",
       "      <th>75%</th>\n",
       "      <td>1.105588e+06</td>\n",
       "      <td>8.000000</td>\n",
       "      <td>4.000000</td>\n",
       "      <td>4.000000</td>\n",
       "      <td>439.000000</td>\n",
       "      <td>3.000000</td>\n",
       "      <td>2003.000000</td>\n",
       "      <td>29.774856</td>\n",
       "      <td>-95.375000</td>\n",
       "      <td>77004.000000</td>\n",
       "    </tr>\n",
       "    <tr>\n",
       "      <th>max</th>\n",
       "      <td>1.000000e+07</td>\n",
       "      <td>20.000000</td>\n",
       "      <td>10.000000</td>\n",
       "      <td>10.000000</td>\n",
       "      <td>10000.000000</td>\n",
       "      <td>10.000000</td>\n",
       "      <td>2020.000000</td>\n",
       "      <td>29.799998</td>\n",
       "      <td>-95.350000</td>\n",
       "      <td>77005.000000</td>\n",
       "    </tr>\n",
       "  </tbody>\n",
       "</table>\n",
       "</div>"
      ],
      "text/plain": [
       "              Price      Bedrooms     Bathrooms           Car     sqm_house  \\\n",
       "count  1.319200e+04  13192.000000  13192.000000  13192.000000  13192.000000   \n",
       "mean   8.456761e+05      6.141525      3.441467      3.351685    317.523291   \n",
       "std    3.681237e+05      2.843307      1.540304      1.660847    171.829185   \n",
       "min    5.040400e+04      1.000000      1.000000      0.000000     50.000000   \n",
       "25%    5.924685e+05      4.000000      2.000000      2.000000    191.000000   \n",
       "50%    8.411120e+05      6.000000      4.000000      3.351685    317.523291   \n",
       "75%    1.105588e+06      8.000000      4.000000      4.000000    439.000000   \n",
       "max    1.000000e+07     20.000000     10.000000     10.000000  10000.000000   \n",
       "\n",
       "            Balcony    Year_built      Latitude     Longitude       Zipcode  \n",
       "count  13192.000000  13192.000000  13192.000000  13192.000000  13192.000000  \n",
       "mean       2.338096   1984.921847     29.749687    -95.399910  77002.980898  \n",
       "std        1.058444     20.447778      0.029004      0.028860      1.408229  \n",
       "min        0.000000   1950.000000     29.700002    -95.449994  77001.000000  \n",
       "25%        2.000000   1967.000000     29.724363    -95.425224  77002.000000  \n",
       "50%        2.000000   1985.000000     29.749352    -95.399677  77003.000000  \n",
       "75%        3.000000   2003.000000     29.774856    -95.375000  77004.000000  \n",
       "max       10.000000   2020.000000     29.799998    -95.350000  77005.000000  "
      ]
     },
     "execution_count": 89,
     "metadata": {},
     "output_type": "execute_result"
    }
   ],
   "source": [
    "# nw looks at the data \n",
    "cleaned_home_prices_df.describe()"
   ]
  },
  {
   "cell_type": "code",
   "execution_count": 171,
   "id": "391642ff-8eba-4231-8d6c-7192dd4328b7",
   "metadata": {},
   "outputs": [
    {
     "data": {
      "image/png": "[encoded data removed]",
      "text/plain": [
       "<Figure size 640x480 with 1 Axes>"
      ]
     },
     "metadata": {},
     "output_type": "display_data"
    }
   ],
   "source": [
    "# car and Balcony having zero values , and it can be valid as missing the car , balcony \n",
    "# outlier plot sales price\n",
    "plt.boxplot(cleaned_home_prices_df[\"Price\"],whis=7.0)\n",
    "plt.title(\"Box plot of Price (whis=1.5)\")\n",
    "plt.show()"
   ]
  },
  {
   "cell_type": "code",
   "execution_count": 178,
   "id": "2b818787-493a-4d63-84d0-205a7819ea50",
   "metadata": {},
   "outputs": [
    {
     "data": {
      "text/plain": [
       "(13191, 10)"
      ]
     },
     "execution_count": 178,
     "metadata": {},
     "output_type": "execute_result"
    }
   ],
   "source": [
    "#lets drop the outlier\n",
    "cleaned_home_prices_df[cleaned_home_prices_df[\"Price\"] >= 10000000].head() \n",
    "cleaned_home_prices_df = cleaned_home_prices_df.drop(cleaned_home_prices_df[cleaned_home_prices_df[\"Price\"] >= 10000000].index)\n",
    "cleaned_home_prices_df.shape"
   ]
  },
  {
   "cell_type": "code",
   "execution_count": 179,
   "id": "36b8a335-0de4-427b-a8d5-8027e2c9e040",
   "metadata": {},
   "outputs": [
    {
     "data": {
      "image/png": "[encoded data removed]",
      "text/plain": [
       "<Figure size 640x480 with 1 Axes>"
      ]
     },
     "metadata": {},
     "output_type": "display_data"
    }
   ],
   "source": [
    "# replot price\n",
    "plt.boxplot(cleaned_home_prices_df[\"Price\"],whis=7.0)\n",
    "plt.title(\"Box plot of Price (whis=1.5)\")\n",
    "plt.show()"
   ]
  },
  {
   "cell_type": "markdown",
   "id": "6a837b91-c521-485e-b75c-302acd492592",
   "metadata": {},
   "source": [
    "## 3 Feature engineering"
   ]
  },
  {
   "cell_type": "code",
   "execution_count": 180,
   "id": "51d236d1-488a-4d3d-9eba-21d40e2360e2",
   "metadata": {},
   "outputs": [
    {
     "data": {
      "text/html": [
       "<div>\n",
       "<style scoped>\n",
       "    .dataframe tbody tr th:only-of-type {\n",
       "        vertical-align: middle;\n",
       "    }\n",
       "\n",
       "    .dataframe tbody tr th {\n",
       "        vertical-align: top;\n",
       "    }\n",
       "\n",
       "    .dataframe thead th {\n",
       "        text-align: right;\n",
       "    }\n",
       "</style>\n",
       "<table border=\"1\" class=\"dataframe\">\n",
       "  <thead>\n",
       "    <tr style=\"text-align: right;\">\n",
       "      <th></th>\n",
       "      <th>Price</th>\n",
       "      <th>Bedrooms</th>\n",
       "      <th>Bathrooms</th>\n",
       "      <th>Car</th>\n",
       "      <th>sqm_house</th>\n",
       "      <th>Balcony</th>\n",
       "      <th>Year_built</th>\n",
       "      <th>Latitude</th>\n",
       "      <th>Longitude</th>\n",
       "      <th>Zipcode</th>\n",
       "    </tr>\n",
       "  </thead>\n",
       "  <tbody>\n",
       "    <tr>\n",
       "      <th>Price</th>\n",
       "      <td>1.000000</td>\n",
       "      <td>0.442907</td>\n",
       "      <td>0.477931</td>\n",
       "      <td>0.497635</td>\n",
       "      <td>0.680657</td>\n",
       "      <td>0.331115</td>\n",
       "      <td>-0.007928</td>\n",
       "      <td>0.010154</td>\n",
       "      <td>-0.008496</td>\n",
       "      <td>0.006853</td>\n",
       "    </tr>\n",
       "    <tr>\n",
       "      <th>Bedrooms</th>\n",
       "      <td>0.442907</td>\n",
       "      <td>1.000000</td>\n",
       "      <td>0.786186</td>\n",
       "      <td>0.749951</td>\n",
       "      <td>0.028609</td>\n",
       "      <td>0.583309</td>\n",
       "      <td>-0.012872</td>\n",
       "      <td>-0.001462</td>\n",
       "      <td>0.003744</td>\n",
       "      <td>0.000914</td>\n",
       "    </tr>\n",
       "    <tr>\n",
       "      <th>Bathrooms</th>\n",
       "      <td>0.477931</td>\n",
       "      <td>0.786186</td>\n",
       "      <td>1.000000</td>\n",
       "      <td>0.752172</td>\n",
       "      <td>0.038738</td>\n",
       "      <td>0.567046</td>\n",
       "      <td>-0.009887</td>\n",
       "      <td>-0.004257</td>\n",
       "      <td>-0.007681</td>\n",
       "      <td>-0.000724</td>\n",
       "    </tr>\n",
       "    <tr>\n",
       "      <th>Car</th>\n",
       "      <td>0.497635</td>\n",
       "      <td>0.749951</td>\n",
       "      <td>0.752172</td>\n",
       "      <td>1.000000</td>\n",
       "      <td>0.062655</td>\n",
       "      <td>0.535573</td>\n",
       "      <td>-0.020042</td>\n",
       "      <td>0.002049</td>\n",
       "      <td>-0.010045</td>\n",
       "      <td>0.002268</td>\n",
       "    </tr>\n",
       "    <tr>\n",
       "      <th>sqm_house</th>\n",
       "      <td>0.680657</td>\n",
       "      <td>0.028609</td>\n",
       "      <td>0.038738</td>\n",
       "      <td>0.062655</td>\n",
       "      <td>1.000000</td>\n",
       "      <td>0.034516</td>\n",
       "      <td>0.002355</td>\n",
       "      <td>0.012234</td>\n",
       "      <td>-0.000624</td>\n",
       "      <td>0.012838</td>\n",
       "    </tr>\n",
       "    <tr>\n",
       "      <th>Balcony</th>\n",
       "      <td>0.331115</td>\n",
       "      <td>0.583309</td>\n",
       "      <td>0.567046</td>\n",
       "      <td>0.535573</td>\n",
       "      <td>0.034516</td>\n",
       "      <td>1.000000</td>\n",
       "      <td>-0.009718</td>\n",
       "      <td>0.000519</td>\n",
       "      <td>-0.001518</td>\n",
       "      <td>-0.007249</td>\n",
       "    </tr>\n",
       "    <tr>\n",
       "      <th>Year_built</th>\n",
       "      <td>-0.007928</td>\n",
       "      <td>-0.012872</td>\n",
       "      <td>-0.009887</td>\n",
       "      <td>-0.020042</td>\n",
       "      <td>0.002355</td>\n",
       "      <td>-0.009718</td>\n",
       "      <td>1.000000</td>\n",
       "      <td>-0.000610</td>\n",
       "      <td>0.008915</td>\n",
       "      <td>-0.008298</td>\n",
       "    </tr>\n",
       "    <tr>\n",
       "      <th>Latitude</th>\n",
       "      <td>0.010154</td>\n",
       "      <td>-0.001462</td>\n",
       "      <td>-0.004257</td>\n",
       "      <td>0.002049</td>\n",
       "      <td>0.012234</td>\n",
       "      <td>0.000519</td>\n",
       "      <td>-0.000610</td>\n",
       "      <td>1.000000</td>\n",
       "      <td>-0.030340</td>\n",
       "      <td>0.013898</td>\n",
       "    </tr>\n",
       "    <tr>\n",
       "      <th>Longitude</th>\n",
       "      <td>-0.008496</td>\n",
       "      <td>0.003744</td>\n",
       "      <td>-0.007681</td>\n",
       "      <td>-0.010045</td>\n",
       "      <td>-0.000624</td>\n",
       "      <td>-0.001518</td>\n",
       "      <td>0.008915</td>\n",
       "      <td>-0.030340</td>\n",
       "      <td>1.000000</td>\n",
       "      <td>-0.003981</td>\n",
       "    </tr>\n",
       "    <tr>\n",
       "      <th>Zipcode</th>\n",
       "      <td>0.006853</td>\n",
       "      <td>0.000914</td>\n",
       "      <td>-0.000724</td>\n",
       "      <td>0.002268</td>\n",
       "      <td>0.012838</td>\n",
       "      <td>-0.007249</td>\n",
       "      <td>-0.008298</td>\n",
       "      <td>0.013898</td>\n",
       "      <td>-0.003981</td>\n",
       "      <td>1.000000</td>\n",
       "    </tr>\n",
       "  </tbody>\n",
       "</table>\n",
       "</div>"
      ],
      "text/plain": [
       "               Price  Bedrooms  Bathrooms       Car  sqm_house   Balcony  \\\n",
       "Price       1.000000  0.442907   0.477931  0.497635   0.680657  0.331115   \n",
       "Bedrooms    0.442907  1.000000   0.786186  0.749951   0.028609  0.583309   \n",
       "Bathrooms   0.477931  0.786186   1.000000  0.752172   0.038738  0.567046   \n",
       "Car         0.497635  0.749951   0.752172  1.000000   0.062655  0.535573   \n",
       "sqm_house   0.680657  0.028609   0.038738  0.062655   1.000000  0.034516   \n",
       "Balcony     0.331115  0.583309   0.567046  0.535573   0.034516  1.000000   \n",
       "Year_built -0.007928 -0.012872  -0.009887 -0.020042   0.002355 -0.009718   \n",
       "Latitude    0.010154 -0.001462  -0.004257  0.002049   0.012234  0.000519   \n",
       "Longitude  -0.008496  0.003744  -0.007681 -0.010045  -0.000624 -0.001518   \n",
       "Zipcode     0.006853  0.000914  -0.000724  0.002268   0.012838 -0.007249   \n",
       "\n",
       "            Year_built  Latitude  Longitude   Zipcode  \n",
       "Price        -0.007928  0.010154  -0.008496  0.006853  \n",
       "Bedrooms     -0.012872 -0.001462   0.003744  0.000914  \n",
       "Bathrooms    -0.009887 -0.004257  -0.007681 -0.000724  \n",
       "Car          -0.020042  0.002049  -0.010045  0.002268  \n",
       "sqm_house     0.002355  0.012234  -0.000624  0.012838  \n",
       "Balcony      -0.009718  0.000519  -0.001518 -0.007249  \n",
       "Year_built    1.000000 -0.000610   0.008915 -0.008298  \n",
       "Latitude     -0.000610  1.000000  -0.030340  0.013898  \n",
       "Longitude     0.008915 -0.030340   1.000000 -0.003981  \n",
       "Zipcode      -0.008298  0.013898  -0.003981  1.000000  "
      ]
     },
     "execution_count": 180,
     "metadata": {},
     "output_type": "execute_result"
    }
   ],
   "source": [
    "#Plot correlation matricx and it gives a bit of the relationship to target variable\n",
    "cleaned_home_prices_df.corr()"
   ]
  },
  {
   "cell_type": "code",
   "execution_count": 181,
   "id": "6f44c50a-2742-4266-8993-c62ec454f98f",
   "metadata": {},
   "outputs": [
    {
     "data": {
      "image/png": "[encoded data removed]",
      "text/plain": [
       "<Figure size 640x480 with 1 Axes>"
      ]
     },
     "metadata": {},
     "output_type": "display_data"
    },
    {
     "data": {
      "image/png": "[encoded data removed]",
      "text/plain": [
       "<Figure size 640x480 with 1 Axes>"
      ]
     },
     "metadata": {},
     "output_type": "display_data"
    },
    {
     "data": {
      "image/png": "[encoded data removed]",
      "text/plain": [
       "<Figure size 640x480 with 1 Axes>"
      ]
     },
     "metadata": {},
     "output_type": "display_data"
    }
   ],
   "source": [
    "# bedroom bath room and car has hig correlation lets plot them and see\n",
    "cols=('Bedrooms','Bathrooms','Car')\n",
    "for idx in range(3):\n",
    "  for idx1 in range(idx+1,3):\n",
    "     column_name1 = cols[idx]\n",
    "     column_name2 = cols[idx1]\n",
    "     plt.scatter(cleaned_home_prices_df[column_name1], cleaned_home_prices_df[column_name2])\n",
    "     plt.title(f' {column_name1} vs {column_name2} ')\n",
    "     plt.show()"
   ]
  },
  {
   "cell_type": "code",
   "execution_count": 182,
   "id": "6ef43d0b-8d53-47eb-9bf4-36d5fe375e2c",
   "metadata": {},
   "outputs": [
    {
     "data": {
      "text/plain": [
       "Text(0.5, 1.0, 'histogram of price')"
      ]
     },
     "execution_count": 182,
     "metadata": {},
     "output_type": "execute_result"
    },
    {
     "data": {
      "image/png": "[encoded data removed]",
      "text/plain": [
       "<Figure size 1800x1500 with 1 Axes>"
      ]
     },
     "metadata": {},
     "output_type": "display_data"
    }
   ],
   "source": [
    "plt.figure(figsize=(18,15))\n",
    "\n",
    "# Histograms of the original data\n",
    "plt.subplot(3, 3, 1)\n",
    "plt.hist(cleaned_home_prices_df[\"Price\"])\n",
    "plt.title(\"histogram of price\")\n"
   ]
  },
  {
   "cell_type": "code",
   "execution_count": 186,
   "id": "a337b87d-1733-41a7-997b-285166c684fd",
   "metadata": {},
   "outputs": [
    {
     "name": "stdout",
     "output_type": "stream",
     "text": [
      "Jarque-Bera test statistics is 203.9582965161614 and p value is 5.1406571765353766e-45\n",
      "Normality test statistics is 446.1071126471122 and p value is 1.346081389217146e-97\n"
     ]
    }
   ],
   "source": [
    "from scipy.stats import jarque_bera\n",
    "from scipy.stats import normaltest\n",
    "import matplotlib.pyplot as plt\n",
    "import seaborn as sns\n",
    "import numpy as np\n",
    "jb_stats = jarque_bera(cleaned_home_prices_df[\"Price\"])\n",
    "norm_stats = normaltest(cleaned_home_prices_df[\"Price\"])\n",
    "\n",
    "print(\"Jarque-Bera test statistics is {0} and p value is {1}\".format(jb_stats[0], jb_stats[1]))\n",
    "print(\"Normality test statistics is {0} and p value is {1}\".format(norm_stats[0], norm_stats[1]))"
   ]
  },
  {
   "cell_type": "code",
   "execution_count": 187,
   "id": "c97925c9-5a55-44cc-b817-9f8b6bc4ede1",
   "metadata": {},
   "outputs": [],
   "source": [
    "# target is in the normal distribution\n",
    "# but some features multi collinarity\n",
    "# select features and target variable and prepare the train and test datasets , selecting 25% for test dataset\n",
    "# `Y` is the target variable\n",
    "Y = cleaned_home_prices_df['Price']\n",
    "# `X` is the feature set \n",
    "X = cleaned_home_prices_df.drop(['Price'], axis =1)\n",
    "from sklearn.model_selection import train_test_split\n",
    "X_train, X_test, y_train, y_test = train_test_split(X, Y, test_size = 0.25, random_state = 465)"
   ]
  },
  {
   "cell_type": "code",
   "execution_count": 188,
   "id": "8ad03e0f-74f0-4f30-9daf-92b7e665184e",
   "metadata": {},
   "outputs": [
    {
     "name": "stdout",
     "output_type": "stream",
     "text": [
      "<class 'pandas.core.frame.DataFrame'>\n",
      "Index: 9893 entries, 1839 to 5721\n",
      "Data columns (total 9 columns):\n",
      " #   Column      Non-Null Count  Dtype  \n",
      "---  ------      --------------  -----  \n",
      " 0   Bedrooms    9893 non-null   float64\n",
      " 1   Bathrooms   9893 non-null   float64\n",
      " 2   Car         9893 non-null   float64\n",
      " 3   sqm_house   9893 non-null   float64\n",
      " 4   Balcony     9893 non-null   float64\n",
      " 5   Year_built  9893 non-null   int64  \n",
      " 6   Latitude    9893 non-null   float64\n",
      " 7   Longitude   9893 non-null   float64\n",
      " 8   Zipcode     9893 non-null   int64  \n",
      "dtypes: float64(7), int64(2)\n",
      "memory usage: 772.9 KB\n",
      "<class 'pandas.core.frame.DataFrame'>\n",
      "Index: 3298 entries, 8510 to 527\n",
      "Data columns (total 9 columns):\n",
      " #   Column      Non-Null Count  Dtype  \n",
      "---  ------      --------------  -----  \n",
      " 0   Bedrooms    3298 non-null   float64\n",
      " 1   Bathrooms   3298 non-null   float64\n",
      " 2   Car         3298 non-null   float64\n",
      " 3   sqm_house   3298 non-null   float64\n",
      " 4   Balcony     3298 non-null   float64\n",
      " 5   Year_built  3298 non-null   int64  \n",
      " 6   Latitude    3298 non-null   float64\n",
      " 7   Longitude   3298 non-null   float64\n",
      " 8   Zipcode     3298 non-null   int64  \n",
      "dtypes: float64(7), int64(2)\n",
      "memory usage: 257.7 KB\n"
     ]
    }
   ],
   "source": [
    "X_train.info()\n",
    "X_test.info()"
   ]
  },
  {
   "cell_type": "markdown",
   "id": "73ab7f64-4a9e-41e6-a09c-fe0e49b90bd1",
   "metadata": {},
   "source": [
    "## 4. Working with models,training and tuning\n",
    "\n",
    "* I will start with linear regession simple model and try to tune parameters and measure the model performance\n",
    "* I will also try lasso ridge regression techniques and see if the performance improves.\n",
    "\n",
    "* Next I will try with ensemble model random forest regression to compare the model "
   ]
  },
  {
   "cell_type": "code",
   "execution_count": 191,
   "id": "d9f24054-2b9d-4251-b49d-c7a8c0452243",
   "metadata": {},
   "outputs": [
    {
     "name": "stdout",
     "output_type": "stream",
     "text": [
      "R-squared of the model on the training set is: 0.7006204069215953\n",
      "-----Test set statistics-----\n",
      "R-squared of the model on the test set is: 0.7019110137168014\n",
      "Mean absolute error of the prediction is: 119607.36144212353\n",
      "Mean squared error of the prediction is: 38723766232.9979\n",
      "Root mean squared error of the prediction is: 196783.5517338731\n",
      "Mean absolute percentage error of the prediction is: 37.617552755588854\n"
     ]
    }
   ],
   "source": [
    "# build regression model\n",
    "from sklearn.linear_model import LinearRegression\n",
    "from sklearn.model_selection import train_test_split\n",
    "from sklearn.metrics import mean_absolute_error\n",
    "from statsmodels.tools.eval_measures import mse, rmse\n",
    "from sqlalchemy import create_engine\n",
    "import numpy as np\n",
    "import pandas as pd\n",
    "# Fit an OLS model using scikit-learn\n",
    "lrm = LinearRegression()\n",
    "lrm.fit(X_train, y_train)\n",
    "\n",
    "\n",
    "# You are making predictions here\n",
    "y_preds_train = lrm.predict(X_train)\n",
    "y_preds_test = lrm.predict(X_test)\n",
    "def print_scores(X_train,y_train,X_test, y_test,y_preds_train,y_preds_test,regmodel):\n",
    " print(\"R-squared of the model on the training set is: {}\".format(regmodel.score(X_train, y_train)))\n",
    " print(\"-----Test set statistics-----\")\n",
    " print(\"R-squared of the model on the test set is: {}\".format(regmodel.score(X_test, y_test)))\n",
    " print(\"Mean absolute error of the prediction is: {}\".format(mean_absolute_error(y_test, y_preds_test)))\n",
    " print(\"Mean squared error of the prediction is: {}\".format(mse(y_test, y_preds_test)))\n",
    " print(\"Root mean squared error of the prediction is: {}\".format(rmse(y_test, y_preds_test)))\n",
    " print(\"Mean absolute percentage error of the prediction is: {}\".format(np.mean(np.abs((y_test - y_preds_test) / y_test)) * 100))\n",
    "\n",
    "print_scores(X_train,y_train,X_test, y_test,y_preds_train,y_preds_test,lrm)"
   ]
  },
  {
   "cell_type": "code",
   "execution_count": 192,
   "id": "b9f40794-0803-400e-9f4a-0c2312622bfd",
   "metadata": {},
   "outputs": [
    {
     "name": "stdout",
     "output_type": "stream",
     "text": [
      " Lasso with alpha=10**2\n",
      "R-squared of the model on the training set is: 0.7005871058654168\n",
      "-----Test set statistics-----\n",
      "R-squared of the model on the test set is: 0.7019570462515874\n",
      "Mean absolute error of the prediction is: 119573.38864815405\n",
      "Mean squared error of the prediction is: 38717786296.81041\n",
      "Root mean squared error of the prediction is: 196768.3569500198\n",
      "Mean absolute percentage error of the prediction is: 37.62064736578749\n",
      " Lasso with alpha=10**2.5\n",
      "R-squared of the model on the training set is: 0.7005859282190798\n",
      "-----Test set statistics-----\n",
      "R-squared of the model on the test set is: 0.7019647957167977\n",
      "Mean absolute error of the prediction is: 119547.4332704471\n",
      "Mean squared error of the prediction is: 38716779589.10552\n",
      "Root mean squared error of the prediction is: 196765.7988297395\n",
      "Mean absolute percentage error of the prediction is: 37.62021269596949\n",
      " Lasso with alpha=10**3\n",
      "R-squared of the model on the training set is: 0.7005742627864806\n",
      "-----Test set statistics-----\n",
      "R-squared of the model on the test set is: 0.7019813198527389\n",
      "Mean absolute error of the prediction is: 119468.23755973132\n",
      "Mean squared error of the prediction is: 38714632992.596306\n",
      "Root mean squared error of the prediction is: 196760.34405488396\n",
      "Mean absolute percentage error of the prediction is: 37.61914153794283\n",
      " Lasso with alpha=10**3.5\n",
      "R-squared of the model on the training set is: 0.7004782789120962\n",
      "-----Test set statistics-----\n",
      "R-squared of the model on the test set is: 0.7019385235618711\n",
      "Mean absolute error of the prediction is: 119245.82706327793\n",
      "Mean squared error of the prediction is: 38720192518.91048\n",
      "Root mean squared error of the prediction is: 196774.47120729476\n",
      "Mean absolute percentage error of the prediction is: 37.62220285676076\n",
      " Lasso with alpha=10**4\n",
      "R-squared of the model on the training set is: 0.6997216282419632\n",
      "-----Test set statistics-----\n",
      "R-squared of the model on the test set is: 0.7012066503736725\n",
      "Mean absolute error of the prediction is: 118764.77805201494\n",
      "Mean squared error of the prediction is: 38815267773.46913\n",
      "Root mean squared error of the prediction is: 197015.90741224206\n",
      "Mean absolute percentage error of the prediction is: 37.66848452989882\n",
      " Lasso with alpha=10**4.5\n",
      "R-squared of the model on the training set is: 0.6957054477685496\n",
      "-----Test set statistics-----\n",
      "R-squared of the model on the test set is: 0.6969842209363619\n",
      "Mean absolute error of the prediction is: 119099.27348303185\n",
      "Mean squared error of the prediction is: 39363789785.316956\n",
      "Root mean squared error of the prediction is: 198403.09923314443\n",
      "Mean absolute percentage error of the prediction is: 38.01413319792156\n"
     ]
    }
   ],
   "source": [
    "# try lasso \n",
    "from sklearn.linear_model import Lasso\n",
    "# You are making predictions here\n",
    "for alpha_val in (2,2.5,3,3.5,4,4.5):\n",
    "  print(f\" Lasso with alpha=10**{alpha_val}\")\n",
    "  lassoregr = Lasso(alpha=10**alpha_val)\n",
    "  lassoregr.fit(X_train, y_train)\n",
    "  print_scores(X_train,y_train,X_test, y_test,lassoregr.predict(X_train),lassoregr.predict(X_test),lassoregr)"
   ]
  },
  {
   "cell_type": "markdown",
   "id": "fdabdc28-7a54-4dbf-9aa6-2e4c719dbd6c",
   "metadata": {},
   "source": [
    "### model with alpha 10 ** 3 looks better with \n",
    "```\n",
    "R-squared of the model on the training set is: 0.7005742627864806\n",
    "-----Test set statistics-----\n",
    "R-squared of the model on the test set is: 0.7019813198527389\n",
    "Mean absolute error of the prediction is: 119468.23755973132\n",
    "Mean squared error of the prediction is: 38714632992.596306\n",
    "Root mean squared error of the prediction is: 196760.34405488396\n",
    "Mean absolute percentage error of the prediction is: 37.61914153794283```"
   ]
  },
  {
   "cell_type": "code",
   "execution_count": 194,
   "id": "e802b30f-917c-42db-9363-fcdcbffb32ec",
   "metadata": {},
   "outputs": [
    {
     "name": "stdout",
     "output_type": "stream",
     "text": [
      " ridgeregr with alpha=10**2\n",
      "R-squared of the model on the training set is: 0.700589818699646\n",
      "-----Test set statistics-----\n",
      "R-squared of the model on the test set is: 0.7019600305305833\n",
      "Mean absolute error of the prediction is: 119533.45648642446\n",
      "Mean squared error of the prediction is: 38717398618.87689\n",
      "Root mean squared error of the prediction is: 196767.37183506033\n",
      "Mean absolute percentage error of the prediction is: 37.6228632913537\n",
      " ridgeregr with alpha=10**2.5\n",
      "R-squared of the model on the training set is: 0.7005671405668557\n",
      "-----Test set statistics-----\n",
      "R-squared of the model on the test set is: 0.7019620846523049\n",
      "Mean absolute error of the prediction is: 119423.85663013367\n",
      "Mean squared error of the prediction is: 38717131774.63565\n",
      "Root mean squared error of the prediction is: 196766.69376354234\n",
      "Mean absolute percentage error of the prediction is: 37.62848745238227\n",
      " ridgeregr with alpha=10**3\n",
      "R-squared of the model on the training set is: 0.700395318909978\n",
      "-----Test set statistics-----\n",
      "R-squared of the model on the test set is: 0.7018530479864663\n",
      "Mean absolute error of the prediction is: 119140.77303803118\n",
      "Mean squared error of the prediction is: 38731296371.628685\n",
      "Root mean squared error of the prediction is: 196802.68385270736\n",
      "Mean absolute percentage error of the prediction is: 37.64900986548134\n",
      " ridgeregr with alpha=10**3.5\n",
      "R-squared of the model on the training set is: 0.699208417960817\n",
      "-----Test set statistics-----\n",
      "R-squared of the model on the test set is: 0.7008106005679444\n",
      "Mean absolute error of the prediction is: 118661.72509752412\n",
      "Mean squared error of the prediction is: 38866717309.67931\n",
      "Root mean squared error of the prediction is: 197146.4362084167\n",
      "Mean absolute percentage error of the prediction is: 37.73326778035565\n",
      " ridgeregr with alpha=10**4\n",
      "R-squared of the model on the training set is: 0.6939186394662094\n",
      "-----Test set statistics-----\n",
      "R-squared of the model on the test set is: 0.695635064825181\n",
      "Mean absolute error of the prediction is: 119266.34837796296\n",
      "Mean squared error of the prediction is: 39539054247.49188\n",
      "Root mean squared error of the prediction is: 198844.29649223507\n",
      "Mean absolute percentage error of the prediction is: 38.1099941689791\n",
      " ridgeregr with alpha=10**4.5\n",
      "R-squared of the model on the training set is: 0.6785022442886213\n",
      "-----Test set statistics-----\n",
      "R-squared of the model on the test set is: 0.6795831653547029\n",
      "Mean absolute error of the prediction is: 124969.33582523705\n",
      "Mean squared error of the prediction is: 41624304059.773895\n",
      "Root mean squared error of the prediction is: 204020.35207246823\n",
      "Mean absolute percentage error of the prediction is: 39.36546509682087\n",
      " ridgeregr with alpha=10**5\n",
      "R-squared of the model on the training set is: 0.6375417818953428\n",
      "-----Test set statistics-----\n",
      "R-squared of the model on the test set is: 0.6366764814736059\n",
      "Mean absolute error of the prediction is: 141769.61412512165\n",
      "Mean squared error of the prediction is: 47198171169.59802\n",
      "Root mean squared error of the prediction is: 217251.40084611197\n",
      "Mean absolute percentage error of the prediction is: 42.60286806713991\n"
     ]
    }
   ],
   "source": [
    "#ridge\n",
    "from sklearn.linear_model import Ridge\n",
    "\n",
    "# Fitting a ridge regression model. Here, `alpha` is the regularization\n",
    "# parameter (usually called `lambda`). As `alpha` gets larger, parameter\n",
    "# shrinkage grows more pronounced.\n",
    "for alpha_val in (2,2.5,3,3.5,4,4.5,5):\n",
    "  print(f\" ridgeregr with alpha=10**{alpha_val}\")\n",
    "  ridgeregr = Ridge(alpha=10**alpha_val)\n",
    "  ridgeregr.fit(X_train, y_train)\n",
    "  print_scores(X_train,y_train,X_test, y_test,ridgeregr.predict(X_train),ridgeregr.predict(X_test),ridgeregr)\n"
   ]
  },
  {
   "cell_type": "markdown",
   "id": "a3a65b48-6e6c-4665-9ed4-209d7b38dc1e",
   "metadata": {},
   "source": [
    "#### Ridge with alpha 10 ** 3 looks better with \n",
    "```\n",
    "R-squared of the model on the training set is: 0.700395318909978\n",
    "-----Test set statistics-----\n",
    "R-squared of the model on the test set is: 0.7018530479864663\n",
    "Mean absolute error of the prediction is: 119140.77303803118\n",
    "Mean squared error of the prediction is: 38731296371.628685\n",
    "Root mean squared error of the prediction is: 196802.68385270736\n",
    "Mean absolute percentage error of the prediction is: 37.64900986548134```"
   ]
  },
  {
   "cell_type": "markdown",
   "id": "a13532e0-3b2d-4ddc-b6b8-9a00207a5e60",
   "metadata": {},
   "source": [
    "## Linear regression vs Lasso vs Ridge regressions\n",
    "\n",
    "  Linear regression model perfomed better with r-square 0.7 , lasso and ridge regressions does not improve much on the model performance. So picking simple regular linear regression model in this comparisions.\n",
    "  \n",
    "```\n",
    "R-squared of the model on the training set is: 0.7006204069215953\n",
    "-----Test set statistics-----\n",
    "R-squared of the model on the test set is: 0.7019110137168014\n",
    "Mean absolute error of the prediction is: 119607.36144212353\n",
    "Mean squared error of the prediction is: 38723766232.9979\n",
    "Root mean squared error of the prediction is: 196783.5517338731\n",
    "Mean absolute percentage error of the prediction is: 37.617552755588854```"
   ]
  },
  {
   "cell_type": "markdown",
   "id": "14cd7c50-40ec-432c-a528-0f665e107c62",
   "metadata": {},
   "source": [
    "### Trying the RandomForestRegressor to predict the house price"
   ]
  },
  {
   "cell_type": "code",
   "execution_count": 195,
   "id": "6b212bc5-7193-40d0-832a-8a188fa68aa9",
   "metadata": {},
   "outputs": [
    {
     "name": "stdout",
     "output_type": "stream",
     "text": [
      "running with 50 estimators\n",
      "R-squared of the model on the training set is: 0.9739149174309386\n",
      "-----Test set statistics-----\n",
      "R-squared of the model on the test set is: 0.8282887963666474\n",
      "Mean absolute error of the prediction is: 72840.14818071558\n",
      "Mean squared error of the prediction is: 22306441415.341286\n",
      "Root mean squared error of the prediction is: 149353.41112723635\n",
      "Mean absolute percentage error of the prediction is: 26.7786078666107\n",
      "running with 60 estimators\n",
      "R-squared of the model on the training set is: 0.9742337335042774\n",
      "-----Test set statistics-----\n",
      "R-squared of the model on the test set is: 0.8286911338467831\n",
      "Mean absolute error of the prediction is: 72661.39474934303\n",
      "Mean squared error of the prediction is: 22254175067.893135\n",
      "Root mean squared error of the prediction is: 149178.3331046876\n",
      "Mean absolute percentage error of the prediction is: 26.774326828146904\n",
      "running with 70 estimators\n",
      "R-squared of the model on the training set is: 0.9743457003510178\n",
      "-----Test set statistics-----\n",
      "R-squared of the model on the test set is: 0.8289957898817238\n",
      "Mean absolute error of the prediction is: 72530.95893615177\n",
      "Mean squared error of the prediction is: 22214598197.826187\n",
      "Root mean squared error of the prediction is: 149045.6245510957\n",
      "Mean absolute percentage error of the prediction is: 26.753924274886586\n",
      "running with 80 estimators\n",
      "R-squared of the model on the training set is: 0.9746390976417244\n",
      "-----Test set statistics-----\n",
      "R-squared of the model on the test set is: 0.8291834272398128\n",
      "Mean absolute error of the prediction is: 72532.53108702243\n",
      "Mean squared error of the prediction is: 22190222841.72259\n",
      "Root mean squared error of the prediction is: 148963.8306493311\n",
      "Mean absolute percentage error of the prediction is: 26.75091829198309\n",
      "running with 90 estimators\n",
      "R-squared of the model on the training set is: 0.9748927139137208\n",
      "-----Test set statistics-----\n",
      "R-squared of the model on the test set is: 0.8293415902248766\n",
      "Mean absolute error of the prediction is: 72418.29346068324\n",
      "Mean squared error of the prediction is: 22169676405.11421\n",
      "Root mean squared error of the prediction is: 148894.8501631746\n",
      "Mean absolute percentage error of the prediction is: 26.681144834662966\n",
      "running with 100 estimators\n",
      "R-squared of the model on the training set is: 0.9750209329964729\n",
      "-----Test set statistics-----\n",
      "R-squared of the model on the test set is: 0.829516460250213\n",
      "Mean absolute error of the prediction is: 72389.30050333535\n",
      "Mean squared error of the prediction is: 22146959611.49256\n",
      "Root mean squared error of the prediction is: 148818.54592587767\n",
      "Mean absolute percentage error of the prediction is: 26.67555494877176\n",
      "running with 110 estimators\n",
      "R-squared of the model on the training set is: 0.975097933524882\n",
      "-----Test set statistics-----\n",
      "R-squared of the model on the test set is: 0.8296832618164275\n",
      "Mean absolute error of the prediction is: 72304.95465847068\n",
      "Mean squared error of the prediction is: 22125290965.032566\n",
      "Root mean squared error of the prediction is: 148745.72587147696\n",
      "Mean absolute percentage error of the prediction is: 26.68322573543309\n",
      "running with 120 estimators\n",
      "R-squared of the model on the training set is: 0.9751487128733693\n",
      "-----Test set statistics-----\n",
      "R-squared of the model on the test set is: 0.8296478837881831\n",
      "Mean absolute error of the prediction is: 72336.97611936528\n",
      "Mean squared error of the prediction is: 22129886809.087727\n",
      "Root mean squared error of the prediction is: 148761.17372852276\n",
      "Mean absolute percentage error of the prediction is: 26.68767136288451\n",
      "running with 130 estimators\n",
      "R-squared of the model on the training set is: 0.9754494933922909\n",
      "-----Test set statistics-----\n",
      "R-squared of the model on the test set is: 0.829985895259974\n",
      "Mean absolute error of the prediction is: 72293.91564351355\n",
      "Mean squared error of the prediction is: 22085976843.20503\n",
      "Root mean squared error of the prediction is: 148613.51500857863\n",
      "Mean absolute percentage error of the prediction is: 26.672732357141843\n",
      "running with 140 estimators\n",
      "R-squared of the model on the training set is: 0.9755241369246795\n",
      "-----Test set statistics-----\n",
      "R-squared of the model on the test set is: 0.8297688430890813\n",
      "Mean absolute error of the prediction is: 72344.41285411072\n",
      "Mean squared error of the prediction is: 22114173381.53011\n",
      "Root mean squared error of the prediction is: 148708.3500733234\n",
      "Mean absolute percentage error of the prediction is: 26.66693368708501\n",
      "running with 150 estimators\n",
      "R-squared of the model on the training set is: 0.9755629657385042\n",
      "-----Test set statistics-----\n",
      "R-squared of the model on the test set is: 0.8297990528678301\n",
      "Mean absolute error of the prediction is: 72294.51757428744\n",
      "Mean squared error of the prediction is: 22110248927.88019\n",
      "Root mean squared error of the prediction is: 148695.15435238698\n",
      "Mean absolute percentage error of the prediction is: 26.66766465079016\n",
      "running with 160 estimators\n",
      "R-squared of the model on the training set is: 0.9755594356158478\n",
      "-----Test set statistics-----\n",
      "R-squared of the model on the test set is: 0.8302818470572902\n",
      "Mean absolute error of the prediction is: 72147.78758148878\n",
      "Mean squared error of the prediction is: 22047530712.20769\n",
      "Root mean squared error of the prediction is: 148484.1092918959\n",
      "Mean absolute percentage error of the prediction is: 26.625472136018182\n",
      "running with 170 estimators\n",
      "R-squared of the model on the training set is: 0.9755246321750645\n",
      "-----Test set statistics-----\n",
      "R-squared of the model on the test set is: 0.8303499895945105\n",
      "Mean absolute error of the prediction is: 72095.31453822281\n",
      "Mean squared error of the prediction is: 22038678537.846134\n",
      "Root mean squared error of the prediction is: 148454.2978086055\n",
      "Mean absolute percentage error of the prediction is: 26.63588006842067\n",
      "running with 180 estimators\n",
      "R-squared of the model on the training set is: 0.9755666701046707\n",
      "-----Test set statistics-----\n",
      "R-squared of the model on the test set is: 0.8302596661800303\n",
      "Mean absolute error of the prediction is: 72119.09270938617\n",
      "Mean squared error of the prediction is: 22050412157.49879\n",
      "Root mean squared error of the prediction is: 148493.81184917703\n",
      "Mean absolute percentage error of the prediction is: 26.632870713719765\n",
      "running with 190 estimators\n",
      "R-squared of the model on the training set is: 0.9755886030258178\n",
      "-----Test set statistics-----\n",
      "R-squared of the model on the test set is: 0.8300894072181442\n",
      "Mean absolute error of the prediction is: 72134.86732788611\n",
      "Mean squared error of the prediction is: 22072529942.93381\n",
      "Root mean squared error of the prediction is: 148568.26694464\n",
      "Mean absolute percentage error of the prediction is: 26.633341233370604\n"
     ]
    }
   ],
   "source": [
    "from sklearn.ensemble import RandomForestRegressor\n",
    "# Random Forest Regression\n",
    "for n in range(50,200,10):\n",
    " print(f'running with {n} estimators')\n",
    " rf_model = RandomForestRegressor(n_estimators=n, random_state=200)\n",
    " rf_model.fit(X_train, y_train)\n",
    " print_scores(X_train,y_train,X_test, y_test,rf_model.predict(X_train),rf_model.predict(X_test),rf_model)"
   ]
  },
  {
   "cell_type": "markdown",
   "id": "dc903193-0c3a-4da8-82ac-85d29b49ca7a",
   "metadata": {},
   "source": [
    "#### this model performed lot better than linear regression with r square on training data is at .97 and test data at 0.82\n",
    "```  \n",
    "R-squared of the model on the training set is: 0.9754494933922909\n",
    "-----Test set statistics-----\n",
    "R-squared of the model on the test set is: 0.829985895259974\n",
    "Mean absolute error of the prediction is: 72293.91564351355\n",
    "Mean squared error of the prediction is: 22085976843.20503\n",
    "Root mean squared error of the prediction is: 148613.51500857863\n",
    "Mean absolute percentage error of the prediction is: 26.672732357141843"
   ]
  },
  {
   "cell_type": "code",
   "execution_count": 198,
   "id": "4045ce4b-d176-476d-baa9-eab9b665e1ba",
   "metadata": {},
   "outputs": [
    {
     "name": "stdout",
     "output_type": "stream",
     "text": [
      "running with 10 depth\n",
      "R-squared of the model on the training set is: 0.9105058449601292\n",
      "-----Test set statistics-----\n",
      "R-squared of the model on the test set is: 0.8292293606820811\n",
      "Mean absolute error of the prediction is: 76936.53668785094\n",
      "Mean squared error of the prediction is: 22184255778.32031\n",
      "Root mean squared error of the prediction is: 148943.8007381318\n",
      "Mean absolute percentage error of the prediction is: 27.449943732717696\n",
      "running with 15 depth\n",
      "R-squared of the model on the training set is: 0.9670047651560691\n",
      "-----Test set statistics-----\n",
      "R-squared of the model on the test set is: 0.8303302591136732\n",
      "Mean absolute error of the prediction is: 72698.94924674791\n",
      "Mean squared error of the prediction is: 22041241660.144386\n",
      "Root mean squared error of the prediction is: 148462.9302558197\n",
      "Mean absolute percentage error of the prediction is: 26.725581460848012\n",
      "running with 20 depth\n",
      "R-squared of the model on the training set is: 0.9747582718007006\n",
      "-----Test set statistics-----\n",
      "R-squared of the model on the test set is: 0.8299153365974339\n",
      "Mean absolute error of the prediction is: 72462.18406050249\n",
      "Mean squared error of the prediction is: 22095142888.51246\n",
      "Root mean squared error of the prediction is: 148644.35034172155\n",
      "Mean absolute percentage error of the prediction is: 26.674795324943958\n",
      "running with 25 depth\n",
      "R-squared of the model on the training set is: 0.9751367567054472\n",
      "-----Test set statistics-----\n",
      "R-squared of the model on the test set is: 0.8303043979188429\n",
      "Mean absolute error of the prediction is: 72231.8453189226\n",
      "Mean squared error of the prediction is: 22044601203.46599\n",
      "Root mean squared error of the prediction is: 148474.24424278436\n",
      "Mean absolute percentage error of the prediction is: 26.65294613978994\n",
      "running with 30 depth\n",
      "R-squared of the model on the training set is: 0.9751496353363918\n",
      "-----Test set statistics-----\n",
      "R-squared of the model on the test set is: 0.8295669490807017\n",
      "Mean absolute error of the prediction is: 72409.30432703022\n",
      "Mean squared error of the prediction is: 22140400772.490818\n",
      "Root mean squared error of the prediction is: 148796.50793110306\n",
      "Mean absolute percentage error of the prediction is: 26.68995490913762\n",
      "running with 35 depth\n",
      "R-squared of the model on the training set is: 0.9751530857532444\n",
      "-----Test set statistics-----\n",
      "R-squared of the model on the test set is: 0.8296749605570523\n",
      "Mean absolute error of the prediction is: 72329.97628107945\n",
      "Mean squared error of the prediction is: 22126369354.51449\n",
      "Root mean squared error of the prediction is: 148749.35077006047\n",
      "Mean absolute percentage error of the prediction is: 26.68265364944403\n"
     ]
    }
   ],
   "source": [
    "# it is time to tune the model fit with tuning max_depth\n",
    "for n in range(10,40,5):\n",
    " print(f'running with {n} depth')\n",
    " rf_model = RandomForestRegressor(\n",
    "     n_estimators= 120,\n",
    "     max_features= 9,\n",
    "     max_depth=n,\n",
    "     min_samples_split=2,\n",
    "     min_samples_leaf=1,\n",
    "     random_state=200)\n",
    " rf_model.fit(X_train, y_train)\n",
    " print_scores(X_train,y_train,X_test, y_test,rf_model.predict(X_train),rf_model.predict(X_test),rf_model)"
   ]
  },
  {
   "cell_type": "markdown",
   "id": "ea72f829-e51f-4ccc-b71a-adffc8d97f2f",
   "metadata": {},
   "source": [
    "#### Random Forest model\n",
    "  It is interesting that the increase in estimators is improving the performance of the model, but the improvement is not much great from 50 estimators to 190 estimators. To balance we can try to select the estimators with 100. Also to aviod overfit of the model, above we worked on tuning the max depth. the model is optimum at max depth 15.\n",
    "  ```\n",
    "R-squared of the model on the training set is: 0.9670047651560691\n",
    "-----Test set statistics-----\n",
    "R-squared of the model on the test set is: 0.8303302591136732\n",
    "Mean absolute error of the prediction is: 72698.94924674791\n",
    "Mean squared error of the prediction is: 22041241660.144386\n",
    "Root mean squared error of the prediction is: 148462.9302558197\n",
    "Mean absolute percentage error of the prediction is: 26.725581460848012"
   ]
  },
  {
   "cell_type": "markdown",
   "id": "4cbcb3ee-004c-418f-911c-c5e83a7b09b2",
   "metadata": {},
   "source": [
    "## Summary \n",
    "\n",
    "   I tried multiple regression models, started with simple linear regression and the model MAE, MSE are 119607, 38723766232 which are high and , R² is at .70. Overall its performance is just ok at .70 R² on test and train datasets, later tried to add lasso and ridge regression. There is no significant improvement in them compared to linear regression. \n",
    "\n",
    "   Later I tried with enseble model of random forest regressor, this model taking time to run compared to linear regression, but the performance of the model is drastically improved and it is in acceptable ranges with MAE, MSE are at 72698  and 22041241660 and the training set is 0.967 and test set is 0.830. This model perfromance looks better overall.\n",
    "   #### From above analysis I will select the random forest regressor model with 100 estimators and depth 15 to accurately predict the houseprice"
   ]
  },
  {
   "cell_type": "code",
   "execution_count": null,
   "id": "0353a4fb-3926-4704-a776-719cff817e01",
   "metadata": {},
   "outputs": [],
   "source": []
  },
  {
   "cell_type": "code",
   "execution_count": null,
   "id": "ef9df0d6-4cb8-46d5-9b4f-8b759ad08006",
   "metadata": {},
   "outputs": [],
   "source": []
  }
 ],
 "metadata": {
  "kernelspec": {
   "display_name": "Python 3 (ipykernel)",
   "language": "python",
   "name": "python3"
  },
  "language_info": {
   "codemirror_mode": {
    "name": "ipython",
    "version": 3
   },
   "file_extension": ".py",
   "mimetype": "text/x-python",
   "name": "python",
   "nbconvert_exporter": "python",
   "pygments_lexer": "ipython3",
   "version": "3.11.7"
  }
 },
 "nbformat": 4,
 "nbformat_minor": 5
}
