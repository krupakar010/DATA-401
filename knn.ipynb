{
 "cells": [
  {
   "cell_type": "code",
   "execution_count": null,
   "id": "1f277956-d62f-46a7-8848-d173d9557955",
   "metadata": {},
   "outputs": [],
   "source": [
    "\n",
    "import numpy as np\n",
    "import pandas as pd\n",
    "from collections import Counter\n",
    "\n",
    "class KNN:\n",
    "    def __init__(self, k=3):\n",
    "        self.k = k\n",
    "\n",
    "    def fit(self, X, y):\n",
    "        self.X_train = X\n",
    "        self.y_train = y\n",
    "\n",
    "    def predict(self, X):\n",
    "        predictions = []\n",
    "        for x in X:\n",
    "            print(x)\n",
    "            distances = [np.linalg.norm(x - x_train) for x_train in self.X_train]\n",
    "            k_indices = np.argsort(distances)[:self.k]\n",
    "            k_nearest_labels = [self.y_train[i] for i in k_indices]\n",
    "            most_common = Counter(k_nearest_labels).most_common(1)\n",
    "            predictions.append(most_common[0][0])\n",
    "        return predictions"
   ]
  },
  {
   "cell_type": "code",
   "execution_count": null,
   "id": "e0c19a4a-8e85-4cc8-8714-fa656bc03c5e",
   "metadata": {},
   "outputs": [],
   "source": [
    "music = pd.DataFrame()\n",
    "\n",
    "# Some data to play with\n",
    "music['duration'] = [184, 134, 243, 186, 122, 197, 294, 382, 102, 264, \n",
    "                     205, 110, 307, 110, 397, 153, 190, 192, 210, 403,\n",
    "                     164, 198, 204, 253, 234, 190, 182, 401, 376, 102]\n",
    "music['loudness'] = [18, 34, 43, 36, 22, 9, 29, 22, 10, 24, \n",
    "                     20, 10, 17, 51, 7, 13, 19, 12, 21, 22,\n",
    "                     16, 18, 4, 23, 34, 19, 14, 11, 37, 42]\n",
    "\n",
    "# You know whether the songs in the training data are jazz or not\n",
    "music['jazz'] = [ 1, 0, 0, 0, 1, 1, 0, 1, 1, 0,\n",
    "                  0, 1, 1, 0, 1, 1, 0, 1, 1, 1,\n",
    "                  1, 1, 1, 1, 0, 0, 1, 1, 0, 0]"
   ]
  },
  {
   "cell_type": "code",
   "execution_count": null,
   "id": "8e19d0e5-15f4-41f5-b16d-d0e756120339",
   "metadata": {},
   "outputs": [],
   "source": [
    "from sklearn.neighbors import KNeighborsClassifier\n",
    "neighbors = KNeighborsClassifier(n_neighbors=1)\n",
    "X = music[['loudness', 'duration']]\n",
    "Y = music.jazz\n",
    "neighbors.fit(X,Y)\n",
    "\n",
    "## Predict for a song with 24 loudness that's 190 seconds long.\n",
    "neighbors.predict([[24, 190]])"
   ]
  },
  {
   "cell_type": "code",
   "execution_count": null,
   "id": "9b44c038-b96a-431a-a7ab-3eb8c00f4fef",
   "metadata": {},
   "outputs": [],
   "source": [
    "knn = KNN()\n",
    "knn.fit(X,Y)\n",
    "for x_train in knn.X_train:\n",
    "    print (x_train)\n",
    "knn.predict([24, 190])\n",
    "\n"
   ]
  },
  {
   "cell_type": "code",
   "execution_count": null,
   "id": "937f8e94-eadd-436a-91aa-c6e678544275",
   "metadata": {},
   "outputs": [],
   "source": [
    "np.linalg.norm(1-3)"
   ]
  },
  {
   "cell_type": "code",
   "execution_count": null,
   "id": "326baebe-7a73-43cd-8443-67a8f6bedcbb",
   "metadata": {},
   "outputs": [],
   "source": []
  }
 ],
 "metadata": {
  "kernelspec": {
   "display_name": "Python 3 (ipykernel)",
   "language": "python",
   "name": "python3"
  },
  "language_info": {
   "codemirror_mode": {
    "name": "ipython",
    "version": 3
   },
   "file_extension": ".py",
   "mimetype": "text/x-python",
   "name": "python",
   "nbconvert_exporter": "python",
   "pygments_lexer": "ipython3",
   "version": "3.11.7"
  }
 },
 "nbformat": 4,
 "nbformat_minor": 5
}
