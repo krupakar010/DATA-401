{
 "cells": [
  {
   "cell_type": "markdown",
   "id": "33f4efe7-6e75-4b6e-9c3e-42f0138db0f7",
   "metadata": {},
   "source": [
    "# The Impact of Gender on Life Expectancy in Humans"
   ]
  },
  {
   "cell_type": "markdown",
   "id": "22915e93-b704-44aa-826d-034c136bfac9",
   "metadata": {},
   "source": [
    "## Introduction\n",
    "In recent decades, global life expectancy has increased significantly due to advances in healthcare, nutrition, and living conditions. This research aims to assess the impact of gender on life expectancy using available life expectancy data.\n",
    "\n",
    "The health inequality data describe life expectency with parameters like houshold gender, Household income. It is interesting to see how these play a role in overlall life expectency of people.Life expectency data is sourced from https://healthinequality.org/data/ and is publicly available.\n",
    "\n",
    "The primary focus will be on comparing life expectancy between females and males. This comparative analysis aims to enhance researchers' understanding of how gender differences influence life expectancy trends. Such insights have the potential to drive advancements that improve overall life expectancy.\n"
   ]
  },
  {
   "cell_type": "markdown",
   "id": "84b8627d-4cb7-4059-8dc2-d3653c9d6461",
   "metadata": {},
   "source": [
    "## 2. Hypothesis\n",
    "\n",
    "**H₀:** There is no significant difference between the average life expectency of person based on gender.\n",
    "\n",
    "**Hₐ:**  There is a significant difference between the life expectency of person based on gender."
   ]
  },
  {
   "cell_type": "markdown",
   "id": "35555f5e-1fdd-4288-80f2-88efd5c39977",
   "metadata": {},
   "source": [
    "## 3. Data \n",
    "\n",
    "The data comes from [healthinequality](https://healthinequality.org/dl/health_ineq_online_table_2.csv). The data contains records for both Male and Female genders.\n",
    "\n",
    "## 4. steps\n",
    "I will create two DataFrames, one containing all records for female and another for all males. \n",
    "If the distributions of life expectency appear to be close to normally distributed based on their histogram, skewness, and kurtosis, I will conduct an independent samples t-test between the groups at the two-tail, 95% confidence interval."
   ]
  },
  {
   "cell_type": "markdown",
   "id": "1f919111-36fe-4e1d-8fe5-a5a937d4c36e",
   "metadata": {},
   "source": [
    "## 5.summary\n",
    "\n",
    "  Based on the results of the statistical analysis, I will determine whether the hypothesis is supported or not."
   ]
  },
  {
   "cell_type": "code",
   "execution_count": null,
   "id": "36f6acee-4df0-465c-8ceb-1740516d4474",
   "metadata": {},
   "outputs": [],
   "source": []
  }
 ],
 "metadata": {
  "kernelspec": {
   "display_name": "Python 3 (ipykernel)",
   "language": "python",
   "name": "python3"
  },
  "language_info": {
   "codemirror_mode": {
    "name": "ipython",
    "version": 3
   },
   "file_extension": ".py",
   "mimetype": "text/x-python",
   "name": "python",
   "nbconvert_exporter": "python",
   "pygments_lexer": "ipython3",
   "version": "3.11.7"
  }
 },
 "nbformat": 4,
 "nbformat_minor": 5
}
