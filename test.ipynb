{
 "cells": [
  {
   "cell_type": "markdown",
   "id": "0b135c79-43d1-4e18-acf6-900cbd62fe76",
   "metadata": {},
   "source": [
    "## 1. Introduction\n",
    "\n",
    "The health inequality data describe life expectency with parameters like houshold gender, Household income. It is interesting to see how these play a role in overlall life expectency of people.\n",
    "Life expectency data is sourced from https://healthinequality.org/data/ and is publicly available.\n",
    "\n",
    "\n",
    "I would like to focus on comparing life expectancy between females and males. This will assist researchers in understanding how gender differences contribute to life expectancy. Such insights could lead to new breakthroughs that improve overall life expectancy."
   ]
  },
  {
   "cell_type": "markdown",
   "id": "8661e89e-8f85-4879-9856-3dbdf594a392",
   "metadata": {},
   "source": [
    "## 2. Hypothesis\n",
    "\n",
    "**H₀:** There is no significant difference between the average life expectency of person based on gender.\n",
    "\n",
    "**Hₐ:**  There is a significant difference between the life expectency of person based on gender."
   ]
  },
  {
   "cell_type": "markdown",
   "id": "ba801c4b-62c2-4603-a8ec-6aa225bafc23",
   "metadata": {},
   "source": [
    "## 3. Data \n",
    "\n",
    "The data comes from [healthinequality](https://healthinequality.org/dl/health_ineq_online_table_2.csv) and contains 2,800 life expectenacy observations and 9 variables. There are no missing values; empty entries.\n",
    "\n",
    "1400 records are male and 1400 are female records. Two samples are of same size."
   ]
  },
  {
   "cell_type": "code",
   "execution_count": 23,
   "id": "94ff4822-da8d-4521-86c6-7387f7de5804",
   "metadata": {},
   "outputs": [
    {
     "name": "stdout",
     "output_type": "stream",
     "text": [
      "<class 'pandas.core.frame.DataFrame'>\n",
      "RangeIndex: 2800 entries, 0 to 2799\n",
      "Data columns (total 9 columns):\n",
      " #   Column         Non-Null Count  Dtype  \n",
      "---  ------         --------------  -----  \n",
      " 0   gnd            2800 non-null   object \n",
      " 1   pctile         2800 non-null   int64  \n",
      " 2   year           2800 non-null   int64  \n",
      " 3   count          2800 non-null   int64  \n",
      " 4   hh_inc         2800 non-null   float64\n",
      " 5   le_agg         2800 non-null   float64\n",
      " 6   le_raceadj     2800 non-null   float64\n",
      " 7   sd_le_agg      2800 non-null   float64\n",
      " 8   sd_le_raceadj  2800 non-null   float64\n",
      "dtypes: float64(5), int64(3), object(1)\n",
      "memory usage: 197.0+ KB\n"
     ]
    },
    {
     "data": {
      "text/html": [
       "<div>\n",
       "<style scoped>\n",
       "    .dataframe tbody tr th:only-of-type {\n",
       "        vertical-align: middle;\n",
       "    }\n",
       "\n",
       "    .dataframe tbody tr th {\n",
       "        vertical-align: top;\n",
       "    }\n",
       "\n",
       "    .dataframe thead th {\n",
       "        text-align: right;\n",
       "    }\n",
       "</style>\n",
       "<table border=\"1\" class=\"dataframe\">\n",
       "  <thead>\n",
       "    <tr style=\"text-align: right;\">\n",
       "      <th></th>\n",
       "      <th>gnd</th>\n",
       "      <th>pctile</th>\n",
       "      <th>year</th>\n",
       "      <th>count</th>\n",
       "      <th>hh_inc</th>\n",
       "      <th>le_agg</th>\n",
       "      <th>le_raceadj</th>\n",
       "      <th>sd_le_agg</th>\n",
       "      <th>sd_le_raceadj</th>\n",
       "    </tr>\n",
       "  </thead>\n",
       "  <tbody>\n",
       "    <tr>\n",
       "      <th>0</th>\n",
       "      <td>F</td>\n",
       "      <td>1</td>\n",
       "      <td>2001</td>\n",
       "      <td>398740</td>\n",
       "      <td>499.10938</td>\n",
       "      <td>79.682068</td>\n",
       "      <td>79.893463</td>\n",
       "      <td>0.392838</td>\n",
       "      <td>0.385240</td>\n",
       "    </tr>\n",
       "    <tr>\n",
       "      <th>1</th>\n",
       "      <td>F</td>\n",
       "      <td>1</td>\n",
       "      <td>2002</td>\n",
       "      <td>411159</td>\n",
       "      <td>541.30695</td>\n",
       "      <td>79.183594</td>\n",
       "      <td>79.410622</td>\n",
       "      <td>0.353981</td>\n",
       "      <td>0.346817</td>\n",
       "    </tr>\n",
       "    <tr>\n",
       "      <th>2</th>\n",
       "      <td>F</td>\n",
       "      <td>1</td>\n",
       "      <td>2003</td>\n",
       "      <td>420298</td>\n",
       "      <td>529.13910</td>\n",
       "      <td>79.364410</td>\n",
       "      <td>79.572174</td>\n",
       "      <td>0.364780</td>\n",
       "      <td>0.359097</td>\n",
       "    </tr>\n",
       "    <tr>\n",
       "      <th>3</th>\n",
       "      <td>F</td>\n",
       "      <td>1</td>\n",
       "      <td>2004</td>\n",
       "      <td>427728</td>\n",
       "      <td>499.29950</td>\n",
       "      <td>79.898407</td>\n",
       "      <td>80.092476</td>\n",
       "      <td>0.352018</td>\n",
       "      <td>0.347992</td>\n",
       "    </tr>\n",
       "    <tr>\n",
       "      <th>4</th>\n",
       "      <td>F</td>\n",
       "      <td>1</td>\n",
       "      <td>2005</td>\n",
       "      <td>433665</td>\n",
       "      <td>474.14536</td>\n",
       "      <td>80.283600</td>\n",
       "      <td>80.465935</td>\n",
       "      <td>0.334612</td>\n",
       "      <td>0.330986</td>\n",
       "    </tr>\n",
       "  </tbody>\n",
       "</table>\n",
       "</div>"
      ],
      "text/plain": [
       "  gnd  pctile  year   count     hh_inc     le_agg  le_raceadj  sd_le_agg  \\\n",
       "0   F       1  2001  398740  499.10938  79.682068   79.893463   0.392838   \n",
       "1   F       1  2002  411159  541.30695  79.183594   79.410622   0.353981   \n",
       "2   F       1  2003  420298  529.13910  79.364410   79.572174   0.364780   \n",
       "3   F       1  2004  427728  499.29950  79.898407   80.092476   0.352018   \n",
       "4   F       1  2005  433665  474.14536  80.283600   80.465935   0.334612   \n",
       "\n",
       "   sd_le_raceadj  \n",
       "0       0.385240  \n",
       "1       0.346817  \n",
       "2       0.359097  \n",
       "3       0.347992  \n",
       "4       0.330986  "
      ]
     },
     "execution_count": 23,
     "metadata": {},
     "output_type": "execute_result"
    }
   ],
   "source": [
    "# setup environment\n",
    "import pandas as pd\n",
    "import matplotlib.pyplot as plt\n",
    "from scipy import stats\n",
    "import math\n",
    "# unable to use datafrom the web link so downloaded to local and using the downloaded file\n",
    "#data location 'https://healthinequality.org/dl/health_ineq_online_table_2.csv'\n",
    "# load the data\n",
    "file='/Users/test/Downloads/health_ineq_online_table_2.csv'\n",
    "le=pd.read_csv(file)\n",
    "\n",
    "le.info()\n",
    "le.head()"
   ]
  },
  {
   "cell_type": "code",
   "execution_count": 17,
   "id": "8e0d4246-1505-49db-a48b-56072bb59893",
   "metadata": {},
   "outputs": [
    {
     "name": "stdout",
     "output_type": "stream",
     "text": [
      "      gnd\n",
      "    count\n",
      "gnd      \n",
      "F    1400\n",
      "M    1400\n"
     ]
    }
   ],
   "source": [
    "# count records by gender\n",
    "print(le[['gnd']].groupby(le['gnd']).agg(['count']))"
   ]
  },
  {
   "cell_type": "markdown",
   "id": "94c47e27-99ec-486e-b522-0f38b07036fa",
   "metadata": {},
   "source": [
    "## 4. Methods\n",
    "\n",
    "For this analysis, I will create two DataFrames, one containing all records for female and another for all males. \n",
    "If the distributions of life expectency appear to be close to normally distributed based on their histogram, skewness, and kurtosis, I will conduct an independent samples t-test between the groups at the two-tail, 95% confidence interval."
   ]
  },
  {
   "cell_type": "code",
   "execution_count": 18,
   "id": "3964d8b5-791a-4b7b-b370-d3b60c80cc4e",
   "metadata": {},
   "outputs": [
    {
     "name": "stdout",
     "output_type": "stream",
     "text": [
      "number of females 1400\n",
      "number of males 1400\n",
      "average life expectenacy FOR MALE  81.70168135571429\n",
      "average life expectenacy FOR FEMALE 85.55313111642857\n"
     ]
    }
   ],
   "source": [
    "# split data to male and female groups\n",
    "le_female=le[le[\"gnd\"]== 'F']\n",
    "le_male=le[le[\"gnd\"]== 'M']\n",
    "print(\"number of females\" , len(le_female))\n",
    "print(\"number of males\" , len(le_male))\n",
    "print(\"average life expectenacy FOR MALE \", le_male.le_agg.mean())\n",
    "print(\"average life expectenacy FOR FEMALE\", le_female.le_agg.mean())"
   ]
  },
  {
   "cell_type": "code",
   "execution_count": 20,
   "id": "2453220f-8950-4e53-b84d-2639ec6adcb9",
   "metadata": {},
   "outputs": [
    {
     "data": {
      "image/png": "[encoded data removed]",
      "text/plain": [
       "<Figure size 640x480 with 1 Axes>"
      ]
     },
     "metadata": {},
     "output_type": "display_data"
    },
    {
     "name": "stdout",
     "output_type": "stream",
     "text": [
      "DescribeResult(nobs=1400, minmax=(67.862122, 89.698997), mean=81.70168135571429, variance=13.791445970948235, skewness=-0.31864664071009474, kurtosis=-0.6867268476986266)\n",
      "DescribeResult(nobs=1400, minmax=(74.229156, 91.120705), mean=85.55313111642857, variance=5.54516781332986, skewness=-0.1963013183736166, kurtosis=-0.25072458614603965)\n"
     ]
    }
   ],
   "source": [
    "# Plot the histogram\n",
    "\n",
    "plt.hist(le_male['le_agg'], alpha = .5)\n",
    "plt.hist(le_female['le_agg'], alpha = .5)\n",
    "plt.show()\n",
    "\n",
    "print(stats.describe(le_male['le_agg']))\n",
    "print(stats.describe(le_female['le_agg']))"
   ]
  },
  {
   "cell_type": "code",
   "execution_count": 21,
   "id": "4dcc97ab-6720-4621-9fa6-6a73b487ed91",
   "metadata": {},
   "outputs": [
    {
     "data": {
      "text/plain": [
       "TtestResult(statistic=-32.7716300446846, pvalue=1.197061026093231e-199, df=2798.0)"
      ]
     },
     "execution_count": 21,
     "metadata": {},
     "output_type": "execute_result"
    }
   ],
   "source": [
    "# Conduct the t-test\n",
    "\n",
    "stats.ttest_ind(le_male['le_agg'], le_female['le_agg'])"
   ]
  },
  {
   "cell_type": "code",
   "execution_count": 25,
   "id": "99cb2b5f-ec9a-4a55-9456-a38c70726871",
   "metadata": {},
   "outputs": [
    {
     "name": "stdout",
     "output_type": "stream",
     "text": [
      "The difference in means at the 95% confidence interval (two-tail) is between 3.621102917401733 and 4.081796604026844.\n",
      "85.55313111642857\n"
     ]
    }
   ],
   "source": [
    "# Confidence interval\n",
    "\n",
    "\n",
    "def get_95_ci(array_1, array_2):\n",
    "    sample_1_n = array_1.shape[0]\n",
    "    sample_2_n = array_2.shape[0]\n",
    "    sample_1_mean = array_1.mean()\n",
    "    sample_2_mean = array_2.mean()\n",
    "    sample_1_var = array_1.var()\n",
    "    sample_2_var = array_2.var()\n",
    "    mean_difference = sample_2_mean - sample_1_mean\n",
    "    std_err_difference = math.sqrt((sample_1_var/sample_1_n)+(sample_2_var/sample_2_n))\n",
    "    margin_of_error = 1.96 * std_err_difference\n",
    "    ci_lower = mean_difference - margin_of_error\n",
    "    ci_upper = mean_difference + margin_of_error\n",
    "    return(\"The difference in means at the 95% confidence interval (two-tail) is between \"+str(ci_lower)+\" and \"+str(ci_upper)+\".\")\n",
    "\n",
    "print(get_95_ci(le_male['le_agg'], le_female['le_agg']))\n",
    "\n",
    "# What is the current average life expectency for female?\n",
    "\n",
    "print(le_female[\"le_agg\"].mean())"
   ]
  },
  {
   "cell_type": "markdown",
   "id": "a8cc4579-b055-48ed-bd38-3e302cb968c9",
   "metadata": {},
   "source": [
    "## 5. Results\n",
    "\n",
    "Based on a visual inspection, life expectency is close enough to normally distributed that I could proceed with the t-test. Based on a t test value -32.77, I reject the null that there is no significant difference in means. \n",
    "\n",
    "The 95% confidence interval suggests that the difference in the average life expectency between the male and female is between \\\\3.62 and \\\\4.08 years. Currently, the average life expectency in females is about 85.55. "
   ]
  },
  {
   "cell_type": "markdown",
   "id": "7f326631-0eec-4746-ad00-2c19eb90b2ef",
   "metadata": {},
   "source": [
    "## 6. Discussion and recommendation\n",
    "\n",
    "On average, life expectancy is notably higher in females than in males. \n",
    "\n",
    "However, besides biological differences, life expectancy can be influenced by factors such as household income, lifestyle choices, and various work-related stress factors. Therefore, exploring these findings further add confirmation that geneder significantly changes life expectency."
   ]
  }
 ],
 "metadata": {
  "kernelspec": {
   "display_name": "Python 3 (ipykernel)",
   "language": "python",
   "name": "python3"
  },
  "language_info": {
   "codemirror_mode": {
    "name": "ipython",
    "version": 3
   },
   "file_extension": ".py",
   "mimetype": "text/x-python",
   "name": "python",
   "nbconvert_exporter": "python",
   "pygments_lexer": "ipython3",
   "version": "3.11.7"
  }
 },
 "nbformat": 4,
 "nbformat_minor": 5
}
