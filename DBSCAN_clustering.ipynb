{
 "cells": [
  {
   "cell_type": "code",
   "execution_count": 12,
   "id": "e860d918-813e-4d83-b116-608ad776b2fd",
   "metadata": {},
   "outputs": [],
   "source": [
    "import scipy\n",
    "import matplotlib.pyplot as plt\n",
    "import seaborn as sns\n",
    "from sklearn.cluster import KMeans\n",
    "from sklearn.preprocessing import StandardScaler\n",
    "from sklearn.decomposition import PCA\n",
    "from sklearn.cluster import MiniBatchKMeans\n",
    "import pandas as pd\n",
    "from sqlalchemy import create_engine\n",
    "import warnings\n",
    "import matplotlib.pyplot as plt\n",
    "from scipy.cluster.hierarchy import dendrogram, linkage\n",
    "from sklearn.preprocessing import StandardScaler\n",
    "from sklearn.cluster import AgglomerativeClustering\n",
    "from sklearn.decomposition import PCA\n",
    "from sklearn import datasets, metrics"
   ]
  },
  {
   "cell_type": "code",
   "execution_count": 2,
   "id": "7225374f-85dd-4165-80d2-4d24d8088300",
   "metadata": {},
   "outputs": [
    {
     "name": "stdout",
     "output_type": "stream",
     "text": [
      "Collecting sqlalchemy<2.0.0\n",
      "  Using cached SQLAlchemy-1.4.54-cp311-cp311-macosx_10_9_universal2.whl.metadata (10 kB)\n",
      "Using cached SQLAlchemy-1.4.54-cp311-cp311-macosx_10_9_universal2.whl (1.6 MB)\n",
      "Installing collected packages: sqlalchemy\n",
      "  Attempting uninstall: sqlalchemy\n",
      "    Found existing installation: SQLAlchemy 1.4.54\n",
      "    Uninstalling SQLAlchemy-1.4.54:\n",
      "      Successfully uninstalled SQLAlchemy-1.4.54\n",
      "Successfully installed sqlalchemy-1.4.54\n"
     ]
    }
   ],
   "source": [
    "!pip install --force-reinstall 'sqlalchemy<2.0.0'"
   ]
  },
  {
   "cell_type": "code",
   "execution_count": 3,
   "id": "9490335b-a47a-4c72-9f32-7d44825b899e",
   "metadata": {},
   "outputs": [],
   "source": []
  },
  {
   "cell_type": "code",
   "execution_count": 8,
   "id": "4ee08db0-864d-425b-8808-93729b3174c1",
   "metadata": {},
   "outputs": [],
   "source": [
    "\n",
    "\n",
    "engine2 = create_engine('postgresql://{}:{}@{}:{}/{}'.format(\n",
    "    postgres_user, postgres_pw, postgres_host, postgres_port, postgres_db))\n",
    "\n",
    "heartdisease_df = pd.read_sql_query('SELECT * FROM heartdisease',con=engine2)\n",
    "engine2.dispose()"
   ]
  },
  {
   "cell_type": "code",
   "execution_count": 9,
   "id": "b0ba11f0-4a2f-45cb-a18b-57db25f0841f",
   "metadata": {},
   "outputs": [
    {
     "data": {
      "text/html": [
       "<div>\n",
       "<style scoped>\n",
       "    .dataframe tbody tr th:only-of-type {\n",
       "        vertical-align: middle;\n",
       "    }\n",
       "\n",
       "    .dataframe tbody tr th {\n",
       "        vertical-align: top;\n",
       "    }\n",
       "\n",
       "    .dataframe thead th {\n",
       "        text-align: right;\n",
       "    }\n",
       "</style>\n",
       "<table border=\"1\" class=\"dataframe\">\n",
       "  <thead>\n",
       "    <tr style=\"text-align: right;\">\n",
       "      <th></th>\n",
       "      <th>0</th>\n",
       "      <th>1</th>\n",
       "      <th>2</th>\n",
       "      <th>3</th>\n",
       "      <th>4</th>\n",
       "      <th>5</th>\n",
       "      <th>6</th>\n",
       "      <th>7</th>\n",
       "      <th>8</th>\n",
       "      <th>9</th>\n",
       "      <th>10</th>\n",
       "      <th>11</th>\n",
       "      <th>12</th>\n",
       "      <th>13</th>\n",
       "    </tr>\n",
       "  </thead>\n",
       "  <tbody>\n",
       "    <tr>\n",
       "      <th>0</th>\n",
       "      <td>63.0</td>\n",
       "      <td>1.0</td>\n",
       "      <td>1.0</td>\n",
       "      <td>145.0</td>\n",
       "      <td>233.0</td>\n",
       "      <td>1.0</td>\n",
       "      <td>2.0</td>\n",
       "      <td>150.0</td>\n",
       "      <td>0.0</td>\n",
       "      <td>2.3</td>\n",
       "      <td>3.0</td>\n",
       "      <td>0.0</td>\n",
       "      <td>6.0</td>\n",
       "      <td>0</td>\n",
       "    </tr>\n",
       "    <tr>\n",
       "      <th>1</th>\n",
       "      <td>67.0</td>\n",
       "      <td>1.0</td>\n",
       "      <td>4.0</td>\n",
       "      <td>160.0</td>\n",
       "      <td>286.0</td>\n",
       "      <td>0.0</td>\n",
       "      <td>2.0</td>\n",
       "      <td>108.0</td>\n",
       "      <td>1.0</td>\n",
       "      <td>1.5</td>\n",
       "      <td>2.0</td>\n",
       "      <td>3.0</td>\n",
       "      <td>3.0</td>\n",
       "      <td>2</td>\n",
       "    </tr>\n",
       "    <tr>\n",
       "      <th>2</th>\n",
       "      <td>67.0</td>\n",
       "      <td>1.0</td>\n",
       "      <td>4.0</td>\n",
       "      <td>120.0</td>\n",
       "      <td>229.0</td>\n",
       "      <td>0.0</td>\n",
       "      <td>2.0</td>\n",
       "      <td>129.0</td>\n",
       "      <td>1.0</td>\n",
       "      <td>2.6</td>\n",
       "      <td>2.0</td>\n",
       "      <td>2.0</td>\n",
       "      <td>7.0</td>\n",
       "      <td>1</td>\n",
       "    </tr>\n",
       "    <tr>\n",
       "      <th>3</th>\n",
       "      <td>37.0</td>\n",
       "      <td>1.0</td>\n",
       "      <td>3.0</td>\n",
       "      <td>130.0</td>\n",
       "      <td>250.0</td>\n",
       "      <td>0.0</td>\n",
       "      <td>0.0</td>\n",
       "      <td>187.0</td>\n",
       "      <td>0.0</td>\n",
       "      <td>3.5</td>\n",
       "      <td>3.0</td>\n",
       "      <td>0.0</td>\n",
       "      <td>3.0</td>\n",
       "      <td>0</td>\n",
       "    </tr>\n",
       "    <tr>\n",
       "      <th>4</th>\n",
       "      <td>41.0</td>\n",
       "      <td>0.0</td>\n",
       "      <td>2.0</td>\n",
       "      <td>130.0</td>\n",
       "      <td>204.0</td>\n",
       "      <td>0.0</td>\n",
       "      <td>2.0</td>\n",
       "      <td>172.0</td>\n",
       "      <td>0.0</td>\n",
       "      <td>1.4</td>\n",
       "      <td>1.0</td>\n",
       "      <td>0.0</td>\n",
       "      <td>3.0</td>\n",
       "      <td>0</td>\n",
       "    </tr>\n",
       "  </tbody>\n",
       "</table>\n",
       "</div>"
      ],
      "text/plain": [
       "      0    1    2      3      4    5    6      7    8    9   10   11   12  13\n",
       "0  63.0  1.0  1.0  145.0  233.0  1.0  2.0  150.0  0.0  2.3  3.0  0.0  6.0   0\n",
       "1  67.0  1.0  4.0  160.0  286.0  0.0  2.0  108.0  1.0  1.5  2.0  3.0  3.0   2\n",
       "2  67.0  1.0  4.0  120.0  229.0  0.0  2.0  129.0  1.0  2.6  2.0  2.0  7.0   1\n",
       "3  37.0  1.0  3.0  130.0  250.0  0.0  0.0  187.0  0.0  3.5  3.0  0.0  3.0   0\n",
       "4  41.0  0.0  2.0  130.0  204.0  0.0  2.0  172.0  0.0  1.4  1.0  0.0  3.0   0"
      ]
     },
     "execution_count": 9,
     "metadata": {},
     "output_type": "execute_result"
    }
   ],
   "source": [
    "heartdisease_df.head()"
   ]
  },
  {
   "cell_type": "code",
   "execution_count": 13,
   "id": "315e7ce8-068f-4647-9a46-456731d92c49",
   "metadata": {},
   "outputs": [],
   "source": [
    "# Define the features and the outcome\n",
    "X = heartdisease_df.iloc[:, :13]\n",
    "y = heartdisease_df.iloc[:, 13]\n",
    "\n",
    "# Replace missing values (marked by `?`) with a `0`\n",
    "X = X.replace(to_replace='?', value=0)\n",
    "\n",
    "# Binarize `y` so that `1` means heart disease diagnosis and `0` means no diagnosis\n",
    "y = np.where(y > 0, 1, 0)"
   ]
  },
  {
   "cell_type": "code",
   "execution_count": 14,
   "id": "25f554eb-8fd5-4f78-a66a-016dad1cc250",
   "metadata": {},
   "outputs": [],
   "source": [
    "from sklearn.cluster import DBSCAN\n",
    "# Standardizing the features\n",
    "scaler = StandardScaler()\n",
    "X_std = scaler.fit_transform(X)"
   ]
  },
  {
   "cell_type": "code",
   "execution_count": 15,
   "id": "e30e511a-079c-4d23-bff9-decbbfcd6e6d",
   "metadata": {},
   "outputs": [],
   "source": [
    "# Defining the agglomerative clustering\n",
    "dbscan_cluster = DBSCAN(eps=1, min_samples=1)"
   ]
  },
  {
   "cell_type": "code",
   "execution_count": 21,
   "id": "3c04d401-3077-4188-b331-aeaa01584899",
   "metadata": {},
   "outputs": [
    {
     "name": "stdout",
     "output_type": "stream",
     "text": [
      "number of clusters: 294\n"
     ]
    }
   ],
   "source": [
    "# Defining the agglomerative clustering\n",
    "dbscan_cluster = DBSCAN(eps=1, min_samples=1)\n",
    "db=dbscan_cluster.fit(X_std)\n",
    "labels = db.labels_\n",
    " \n",
    "# Number of clusters in labels, ignoring noise if present.\n",
    "print('number of clusters:' , len(set(labels)) - (1 if -1 in labels else 0))\n"
   ]
  },
  {
   "cell_type": "code",
   "execution_count": 25,
   "id": "4454fd9e-c80a-418b-bd46-ecf0818f0961",
   "metadata": {},
   "outputs": [
    {
     "name": "stdout",
     "output_type": "stream",
     "text": [
      "min_samples : 1\n",
      "number of clusters: 294\n",
      "min_samples : 2\n",
      "number of clusters: 8\n",
      "min_samples : 3\n",
      "number of clusters: 1\n",
      "min_samples : 4\n",
      "number of clusters: 0\n"
     ]
    }
   ],
   "source": [
    "for sample in range(1,5,1):\n",
    "    dbscan_cluster = DBSCAN(eps=1, min_samples=sample)\n",
    "    db=dbscan_cluster.fit(X_std)\n",
    "    labels = db.labels_\n",
    "    print('min_samples :',sample)\n",
    "    print('number of clusters:' , len(set(labels)) - (1 if -1 in labels else 0))"
   ]
  },
  {
   "cell_type": "code",
   "execution_count": 30,
   "id": "7559ba92-abc3-498b-a350-254d8803ac36",
   "metadata": {},
   "outputs": [
    {
     "name": "stdout",
     "output_type": "stream",
     "text": [
      "eps : 1 min_samples : 1\n",
      "number of clusters: 294\n",
      "eps : 1 min_samples : 2\n",
      "number of clusters: 8\n",
      "eps : 1 min_samples : 3\n",
      "number of clusters: 1\n",
      "eps : 1 min_samples : 4\n",
      "number of clusters: 0\n",
      "eps : 2 min_samples : 1\n",
      "number of clusters: 178\n",
      "eps : 2 min_samples : 2\n",
      "number of clusters: 30\n",
      "eps : 2 min_samples : 3\n",
      "number of clusters: 14\n",
      "eps : 2 min_samples : 4\n",
      "number of clusters: 8\n",
      "eps : 3 min_samples : 1\n",
      "number of clusters: 34\n",
      "eps : 3 min_samples : 2\n",
      "number of clusters: 8\n",
      "eps : 3 min_samples : 3\n",
      "number of clusters: 5\n",
      "eps : 3 min_samples : 4\n",
      "number of clusters: 3\n",
      "eps : 4 min_samples : 1\n",
      "number of clusters: 3\n",
      "eps : 4 min_samples : 2\n",
      "number of clusters: 1\n",
      "eps : 4 min_samples : 3\n",
      "number of clusters: 1\n",
      "eps : 4 min_samples : 4\n",
      "number of clusters: 1\n",
      "eps : 5 min_samples : 1\n",
      "number of clusters: 1\n",
      "eps : 5 min_samples : 2\n",
      "number of clusters: 1\n",
      "eps : 5 min_samples : 3\n",
      "number of clusters: 1\n",
      "eps : 5 min_samples : 4\n",
      "number of clusters: 1\n"
     ]
    }
   ],
   "source": [
    "for eps in range(1,6,1):\n",
    " for sample in range(1,5,1):\n",
    "    dbscan_cluster = DBSCAN(eps=eps, min_samples=sample)\n",
    "    db=dbscan_cluster.fit(X_std)\n",
    "    labels = db.labels_\n",
    "    print('eps :',eps,'min_samples :',sample)\n",
    "    print('number of clusters:' , len(set(labels)) - (1 if -1 in labels else 0))"
   ]
  },
  {
   "cell_type": "markdown",
   "id": "5c188928-1262-4808-a813-616caf969698",
   "metadata": {},
   "source": [
    "## Increase in  EPS OR increase in number of points result in Fewer clusters."
   ]
  },
  {
   "cell_type": "code",
   "execution_count": null,
   "id": "180519e5-63e6-4443-aa68-e82f881f7fb1",
   "metadata": {},
   "outputs": [],
   "source": []
  }
 ],
 "metadata": {
  "kernelspec": {
   "display_name": "Python 3 (ipykernel)",
   "language": "python",
   "name": "python3"
  },
  "language_info": {
   "codemirror_mode": {
    "name": "ipython",
    "version": 3
   },
   "file_extension": ".py",
   "mimetype": "text/x-python",
   "name": "python",
   "nbconvert_exporter": "python",
   "pygments_lexer": "ipython3",
   "version": "3.11.7"
  }
 },
 "nbformat": 4,
 "nbformat_minor": 5
}
